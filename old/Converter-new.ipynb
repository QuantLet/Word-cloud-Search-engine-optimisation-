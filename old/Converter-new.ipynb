{
 "cells": [
  {
   "cell_type": "markdown",
   "metadata": {},
   "source": [
    "# The algorithm"
   ]
  },
  {
   "cell_type": "markdown",
   "metadata": {},
   "source": [
    "## Installing packages"
   ]
  },
  {
   "cell_type": "code",
   "execution_count": 1,
   "metadata": {},
   "outputs": [],
   "source": [
    "import PyPDF2\n",
    "import re\n",
    "import requests\n",
    "import pandas as pd\n",
    "from itertools import combinations \n",
    "from itertools import permutations\n",
    "from itertools import chain\n",
    "from nltk.corpus import stopwords"
   ]
  },
  {
   "cell_type": "markdown",
   "metadata": {},
   "source": [
    "## - placeholder -"
   ]
  },
  {
   "cell_type": "code",
   "execution_count": 2,
   "metadata": {},
   "outputs": [],
   "source": [
    "id_num = 1\n",
    "id_pdf = \"id-{}\".format(id_num)"
   ]
  },
  {
   "cell_type": "markdown",
   "metadata": {},
   "source": [
    "## Step 1: PDF downloader "
   ]
  },
  {
   "cell_type": "code",
   "execution_count": 3,
   "metadata": {},
   "outputs": [],
   "source": [
    "def download_pdf(url, file_name, headers):\n",
    "    response = requests.get(url, headers=headers)\n",
    "    if response.status_code == 200:\n",
    "        with open(file_name, \"wb\") as f:\n",
    "            f.write(response.content)\n",
    "    else:\n",
    "        print(response.status_code)"
   ]
  },
  {
   "cell_type": "markdown",
   "metadata": {},
   "source": [
    "## Pulling the PDF"
   ]
  },
  {
   "cell_type": "code",
   "execution_count": 4,
   "metadata": {},
   "outputs": [],
   "source": [
    "if __name__ == \"__main__\":\n",
    "    # Define HTTP Headers\n",
    "    headers = {\n",
    "        \"User-Agent\": \"Chrome/51.0.2704.103\"\n",
    "    }\n",
    "    # Define URL\n",
    "    url = \"https://quantinar.s3.eu-west-3.amazonaws.com/\" \\\n",
    "          \"courselet_components%2F214%2F1649337741164476519520220205+\" \\\n",
    "          \"SFE+Slides+Chapter+2.1+The+Basics+of+Option+Management.pdf\"\n",
    "    # Define image file name\n",
    "    file_name = \"{}.pdf\".format(id_pdf)\n",
    "    # Download image\n",
    "    download_pdf(url, file_name, headers)"
   ]
  },
  {
   "cell_type": "markdown",
   "metadata": {},
   "source": [
    "## Step 2: String creator"
   ]
  },
  {
   "cell_type": "code",
   "execution_count": 5,
   "metadata": {},
   "outputs": [],
   "source": [
    "# opening the file\n",
    "imported_pdf = open(file_name, 'rb')\n",
    "# convert PDF to readable file\n",
    "transformed_pdf = PyPDF2.PdfFileReader(imported_pdf)\n",
    "# get number of pages\n",
    "totalpages = transformed_pdf.numPages\n",
    "# read the data and store in a list\n",
    "pdf_output = [transformed_pdf.getPage(i) for i in range(totalpages)]\n",
    "# extract result\n",
    "pdf_output = [pdf_output[i].extractText() for i in range(totalpages)]"
   ]
  },
  {
   "cell_type": "markdown",
   "metadata": {},
   "source": [
    "## Step 3: Cleaning"
   ]
  },
  {
   "cell_type": "code",
   "execution_count": 7,
   "metadata": {},
   "outputs": [],
   "source": [
    "# cleaning URLs\n",
    "pdf_output = [re.sub(pattern = \"http[^ ]*\", repl = \" \", string = pdf_output[i]) for i in range(totalpages)]\n",
    "# cleaning symbols\n",
    "pdf_output = [re.sub(pattern = \"(\\)|\\(|,|\\.|!|=|:|\\[|\\]|\\{|\\}|\\'|\\\"|#|<|>|\\%|\\&|\\?|\\*|\\/|-|\\$|\\+|\\d)\", repl = \" \", string = pdf_output[i]) for i in range(totalpages)]\n",
    "# cleaning multispaces\n",
    "pdf_output = [re.sub(pattern = \"\\s{2,}\", repl = \" \", string = pdf_output[i]) for i in range(totalpages)]\n",
    "# cleaning out 1-worders\n",
    "pdf_output = [re.sub(pattern = \" \\w \", repl = \" \", string = pdf_output[i]) for i in range(totalpages)]\n",
    "# lower-casing\n",
    "pdf_output = [pdf_output[i].lower() for i in range(totalpages)]"
   ]
  },
  {
   "cell_type": "markdown",
   "metadata": {},
   "source": [
    "## Step 4: Word list"
   ]
  },
  {
   "cell_type": "code",
   "execution_count": 8,
   "metadata": {},
   "outputs": [],
   "source": [
    "# split to a list\n",
    "word_list = [pdf_output[i].split(\" \") for i in range(totalpages)]\n",
    "# converting to a dataframe\n",
    "word_list = pd.DataFrame(word_list)\n",
    "# one-word section\n",
    "one_word_list = [word_list.iloc[j, i] for j in range(totalpages) for i in range(len(word_list))]\n",
    "# two-word section\n",
    "two_word_list = [[word_list.iloc[j, i], word_list.iloc[j, i+1]] for j in range(totalpages)  for i in range(len(word_list) - 1)]\n",
    "two_word_permutation_list = [[p for p in permutations(two_word_list[k])][1:] for k in range(len(two_word_list))]\n",
    "two_word_permutation_set = set(list(chain(*two_word_permutation_list)))\n",
    "# three-word section\n",
    "three_word_list = [[word_list.iloc[j, i], word_list.iloc[j, i+1], word_list.iloc[j, i+2]] for j in range(totalpages) for i in range(len(word_list) - 2)]\n",
    "three_word_permutation_list = [[p for p in permutations(three_word_list[k])][1:] for k in range(len(three_word_list))]\n",
    "three_word_permutation_set = set(list(chain(*three_word_permutation_list)))"
   ]
  },
  {
   "cell_type": "markdown",
   "metadata": {},
   "source": [
    "## Step 5: Three-word occurrance matrix"
   ]
  },
  {
   "cell_type": "code",
   "execution_count": 9,
   "metadata": {},
   "outputs": [],
   "source": [
    "# copying the data\n",
    "words = three_word_list.copy()\n",
    "# converting to a dataframe\n",
    "words = pd.DataFrame(three_word_list)\n",
    "# creating the three-word combinations as one string\n",
    "words = [words.iloc[i,0] + \" \" + words.iloc[i,1] + \" \" + words.iloc[i,2] for i in range(len(three_word_list)) if words.iloc[i,].isna().any() == False]\n",
    "# crating the dictionary\n",
    "dictionary_three_word = dict()"
   ]
  },
  {
   "cell_type": "code",
   "execution_count": 10,
   "metadata": {},
   "outputs": [],
   "source": [
    "# counting word occurances\n",
    "for word in words:\n",
    "    if word in dictionary_three_word:\n",
    "        dictionary_three_word[word] = dictionary_three_word[word] + 1\n",
    "    else:\n",
    "        dictionary_three_word[word] = 1"
   ]
  },
  {
   "cell_type": "code",
   "execution_count": 11,
   "metadata": {},
   "outputs": [],
   "source": [
    "# creating the occurance matrix\n",
    "dictionary_three_words = dictionary_three_word.items()\n",
    "dictionary_three_list = list(dictionary_three_words)\n",
    "occurrence_three_matrix = pd.DataFrame(dictionary_three_list)\n",
    "occurrence_three_matrix = occurrence_three_matrix.rename(columns={0:\"word\", 1:\"occurance\"})\n",
    "\n",
    "# clean of NaNs\n",
    "occurrence_three_matrix = occurrence_three_matrix.loc[occurrence_three_matrix.word.isna() == False, ]\n",
    "occurrence_three_matrix = occurrence_three_matrix.loc[occurrence_three_matrix.word != \"None\", ]\n",
    "\n",
    "# sort values\n",
    "occurrence_three_matrix = occurrence_three_matrix.sort_values(\"occurance\", ascending=False)\n",
    "\n",
    "# re-indexing\n",
    "occurrence_three_matrix['index'] = range(len(occurrence_three_matrix))\n",
    "occurrence_three_matrix = occurrence_three_matrix.set_index('index')"
   ]
  },
  {
   "cell_type": "markdown",
   "metadata": {},
   "source": [
    "## Step 6: Two-word occurrance matrix"
   ]
  },
  {
   "cell_type": "code",
   "execution_count": 12,
   "metadata": {},
   "outputs": [],
   "source": [
    "# copying the data\n",
    "words = two_word_list.copy()\n",
    "# converting to a dataframe\n",
    "words = pd.DataFrame(two_word_list)\n",
    "# creating the three-word combinations as one string\n",
    "words = [words.iloc[i,0] + \" \" + words.iloc[i,1] for i in range(len(two_word_list)) if words.iloc[i,].isna().any() == False]\n",
    "# crating the dictionary\n",
    "dictionary_two_word = dict()"
   ]
  },
  {
   "cell_type": "code",
   "execution_count": 13,
   "metadata": {},
   "outputs": [],
   "source": [
    "# counting word occurances\n",
    "for word in words:\n",
    "    if word in dictionary_two_word:\n",
    "        dictionary_two_word[word] = dictionary_two_word[word] + 1\n",
    "    else:\n",
    "        dictionary_two_word[word] = 1"
   ]
  },
  {
   "cell_type": "code",
   "execution_count": 14,
   "metadata": {},
   "outputs": [],
   "source": [
    "# creating the occurance matrix\n",
    "dictionary_two_words = dictionary_two_word.items()\n",
    "dictionary_three_list = list(dictionary_two_words)\n",
    "occurrence_two_matrix = pd.DataFrame(dictionary_three_list)\n",
    "occurrence_two_matrix = occurrence_two_matrix.rename(columns={0:\"word\", 1:\"occurance\"})\n",
    "\n",
    "# clean of NaNs\n",
    "occurrence_two_matrix = occurrence_two_matrix.loc[occurrence_two_matrix.word.isna() == False, ]\n",
    "occurrence_two_matrix = occurrence_two_matrix.loc[occurrence_two_matrix.word != \"None\", ]\n",
    "\n",
    "# sort values\n",
    "occurrence_two_matrix = occurrence_two_matrix.sort_values(\"occurance\", ascending=False)\n",
    "\n",
    "# re-indexing\n",
    "occurrence_two_matrix['index'] = range(len(occurrence_two_matrix))\n",
    "occurrence_two_matrix = occurrence_two_matrix.set_index('index')"
   ]
  },
  {
   "cell_type": "markdown",
   "metadata": {},
   "source": [
    "## Step 7: One-word occurrance matrix"
   ]
  },
  {
   "cell_type": "code",
   "execution_count": 15,
   "metadata": {},
   "outputs": [],
   "source": [
    "# copying the data\n",
    "words = one_word_list.copy()\n",
    "# creating the three-word combinations as one string\n",
    "words = [x for x in words if x != \"\"]\n",
    "words = [x for x in words if x != \" \"]    \n",
    "# crating the dictionary\n",
    "dictionary_one_word = dict()"
   ]
  },
  {
   "cell_type": "code",
   "execution_count": 17,
   "metadata": {},
   "outputs": [],
   "source": [
    "# counting word occurances\n",
    "for word in words:\n",
    "    if word in dictionary_one_word:\n",
    "        dictionary_one_word[word] = dictionary_one_word[word] + 1\n",
    "    else:\n",
    "        dictionary_one_word[word] = 1"
   ]
  },
  {
   "cell_type": "code",
   "execution_count": 18,
   "metadata": {},
   "outputs": [],
   "source": [
    "# creating the occurance matrix\n",
    "dictionary_one_word = dictionary_one_word.items()\n",
    "occurrence_one_matrix = pd.DataFrame(dictionary_one_word)\n",
    "occurrence_one_matrix = occurrence_one_matrix.rename(columns={0:\"word\", 1:\"occurance\"})\n",
    "\n",
    "# clean of NaNs\n",
    "occurrence_one_matrix = occurrence_one_matrix.loc[occurrence_one_matrix.word.isna() == False, ]\n",
    "occurrence_one_matrix = occurrence_one_matrix.loc[occurrence_one_matrix.word != \"None\", ]\n",
    "\n",
    "# sort values\n",
    "occurrence_one_matrix = occurrence_one_matrix.sort_values(\"occurance\", ascending=False)\n",
    "\n",
    "# re-indexing\n",
    "occurrence_one_matrix['index'] = range(len(occurrence_one_matrix))\n",
    "occurrence_one_matrix = occurrence_one_matrix.set_index('index')"
   ]
  },
  {
   "cell_type": "markdown",
   "metadata": {},
   "source": [
    "# Buiding the copula"
   ]
  },
  {
   "cell_type": "code",
   "execution_count": 20,
   "metadata": {},
   "outputs": [],
   "source": [
    "courselist = (\n",
    "'https://quantinar.s3.eu-west-3.amazonaws.com/courselet_components%2F175%2F163757167020201210_Liu_crypto_p2p_lending.pdf',\n",
    "'https://quantinar.s3.eu-west-3.amazonaws.com/courselet_components%2F272%2F1654160257Lesson1-1.pdf',\n",
    "'https://quantinar.s3.eu-west-3.amazonaws.com/courselet_components%2F273%2F1654160288Lesson1-2.pdf',\n",
    "'https://quantinar.s3.eu-west-3.amazonaws.com/courselet_components%2F274%2F1654160327Lesson1-3.pdf',\n",
    "'https://quantinar.s3.eu-west-3.amazonaws.com/courselet_components%2F275%2F1654160374Lesson1-4.pdf',\n",
    "'https://quantinar.s3.eu-west-3.amazonaws.com/courselet_components%2F276%2F1654160475Lesson1-5.pdf',\n",
    "'https://quantinar.s3.eu-west-3.amazonaws.com/courselet_components%2F277%2F1654160518Lesson1-6.pdf',\n",
    "'https://quantinar.s3.eu-west-3.amazonaws.com/courselet_components%2F279%2F1654251498Lesson2-1.pdf',\n",
    "'https://quantinar.s3.eu-west-3.amazonaws.com/courselet_components%2F278%2F1654160549Lesson1-7.pdf',\n",
    "'https://quantinar.s3.eu-west-3.amazonaws.com/courselet_components%2F280%2F1654251511Lesson2-2.pdf',\n",
    "'https://quantinar.s3.eu-west-3.amazonaws.com/courselet_components%2F281%2F1654251525Lesson2-3.pdf',\n",
    "'https://quantinar.s3.eu-west-3.amazonaws.com/courselet_components%2F103%2F20210303+IA+METIS+Reinforcement+Learning.pdf',\n",
    "'https://quantinar.s3.eu-west-3.amazonaws.com/courselet_components%2F107%2F1636712642CATE_meets_ML_Presentation.pdf',\n",
    "'https://quantinar.s3.eu-west-3.amazonaws.com/courselet_components%2F120%2F163458263420190429+Hae+Ni+LDA+DTM.pdf',\n",
    "'https://quantinar.s3.eu-west-3.amazonaws.com/courselet_components%2F120%2F163646337920210921+Hae+Ni+LDA.pdf',\n",
    "'https://quantinar.s3.eu-west-3.amazonaws.com/courselet_components%2F121%2F163646358220210708+Hae+Ni+LDA+extensions.pdf',\n",
    "'https://quantinar.s3.eu-west-3.amazonaws.com/courselet_components%2F108%2F163595835420210530+METIS+WANG+Kalman+Filter.pdf',\n",
    "'https://quantinar.s3.eu-west-3.amazonaws.com/courselet_components%2F110%2F1632126441nodalida2021_summaryQuality_slides.pdf',\n",
    "'https://quantinar.s3.eu-west-3.amazonaws.com/courselet_components%2F112%2F163664661320211013+Ren+LI+Hae+Expectile+FRM.pdf',\n",
    "'https://quantinar.s3.eu-west-3.amazonaws.com/courselet_components%2F114%2F1635233254Shapley.pdf',\n",
    "'https://quantinar.s3.eu-west-3.amazonaws.com/courselet_components%2F118%2F1636625638FRM%40EM.pdf',\n",
    "'https://quantinar.s3.eu-west-3.amazonaws.com/courselet_components%2F119%2F163231165920210324+Wan+Hae+Li+k-expectile+clustering.pdf',\n",
    "'https://quantinar.s3.eu-west-3.amazonaws.com/courselet_components%2F130%2F1633104997PAC.pdf',\n",
    "'https://quantinar.s3.eu-west-3.amazonaws.com/courselet_components%2F134%2F163368764620210923+Mer+Hae+GAN+Generative+Adversarial+Networks.pdf',\n",
    "'https://quantinar.s3.eu-west-3.amazonaws.com/courselet_components%2F139%2F163402565120211012+Kho+Hae+Trespassing+random+forests+with+a+pointed+stick+for+self+defence.pdf',\n",
    "'https://quantinar.s3.eu-west-3.amazonaws.com/courselet_components%2F217%2F1644582711Berlin_short_course.pdf',\n",
    "'https://quantinar.s3.eu-west-3.amazonaws.com/courselet_components%2F235%2F1649426301Variable+importance+measures+for+RF+.pdf',\n",
    "'https://quantinar.s3.eu-west-3.amazonaws.com/courselet_components%2F179%2F16376558632021122+SBA+JW+Hae+EPF++Quantinar.pdf',\n",
    "'https://quantinar.s3.eu-west-3.amazonaws.com/courselet_components%2F186%2F1645194357Presentation_Quantinar_with_videos.pdf',\n",
    "'https://quantinar.s3.eu-west-3.amazonaws.com/courselet_components%2F306%2FBarHan2021_talk.pdf',\n",
    "'https://quantinar.s3.eu-west-3.amazonaws.com/courselet_components%2F181%2F163826827620211130+LI+Hae+Case+based+Bancruptcy+prediction.pdf',\n",
    "'https://quantinar.s3.eu-west-3.amazonaws.com/courselet_components%2F224%2F164728525020220305+LI+Electricity+Market+Coupling.pdf',\n",
    "'https://quantinar.s3.eu-west-3.amazonaws.com/courselet_components%2F196%2F1642599075163458186420200403+METIS+Kho+Hae+Spectral+Clustering+course.pdf',\n",
    "'https://quantinar.s3.eu-west-3.amazonaws.com/courselet_components%2F197%2F1642599236164171878820211207+Hae+Zin+Hierarchical+Clustering+course.pdf',\n",
    "'https://quantinar.s3.eu-west-3.amazonaws.com/courselet_components%2F198%2F1642599289163231165920210324+Wan+Hae+Li+k-expectile+clustering+course.pdf',\n",
    "'https://quantinar.s3.eu-west-3.amazonaws.com/courselet_components%2F200%2F1642686124163527012720210526+SAE+NAG+HAE+SIZ+Understanding+jumps+in+high+frequency+digital+asset+markets_course.pdf',\n",
    "'https://quantinar.s3.eu-west-3.amazonaws.com/courselet_components%2F201%2F16426862241636625638FRM%40EM_course.pdf',\n",
    "'https://quantinar.s3.eu-west-3.amazonaws.com/courselet_components%2F202%2F1642686343163774999520210912+Hae+Li+Tao+Dynamic+Crypto+Networks_course.pdf',\n",
    "'https://quantinar.s3.eu-west-3.amazonaws.com/courselet_components%2F189%2F163958119120211130+Hae+Wan+Kot+ComputerMuseum.pdf',\n",
    "'https://quantinar.s3.eu-west-3.amazonaws.com/courselet_components%2F183%2F1643806658KDE+ill-posed+problems.pdf',\n",
    "'https://quantinar.s3.eu-west-3.amazonaws.com/courselet_components%2F167%2F163699399420211115+Liu+Word+Embeddings+2.pdf',\n",
    "'https://quantinar.s3.eu-west-3.amazonaws.com/courselet_components%2F157%2F1642778303introduction_data_science.pdf',\n",
    "'https://quantinar.s3.eu-west-3.amazonaws.com/courselet_components%2F180%2F16377653596.+model+assessment+-+part+4+-+appendix.pdf',\n",
    "'https://quantinar.s3.eu-west-3.amazonaws.com/courselet_components%2F128%2F163707553520210331_METIS_Hel_GANs_for_Time_Series.pdf',\n",
    "'https://quantinar.s3.eu-west-3.amazonaws.com/courselet_components%2F127%2F163458156320190528+Cea+Hae+Scagnostics.pdf',\n",
    "'https://quantinar.s3.eu-west-3.amazonaws.com/courselet_components%2F117%2F163458186420200403+METIS+Kho+Hae+Spectral+Clustering.pdf',\n",
    "'https://quantinar.s3.eu-west-3.amazonaws.com/courselet_components%2F106%2F163458175020200914+Hae+DS2+Data+Science+%26+Digital+Society.pdf',\n",
    "'https://quantinar.s3.eu-west-3.amazonaws.com/courselet_components%2F190%2F1640038524Instruction+for+Creating+Quantlets.pdf',\n",
    "'https://quantinar.s3.eu-west-3.amazonaws.com/courselet_components%2F144%2F1636624210NNCSR_Slides.pdf',\n",
    "'https://quantinar.s3.eu-west-3.amazonaws.com/courselet_components%2F184%2F163888970320211207+Zin+Reu+Hae+USC+Quantinar+40+min+PDF.pdf',\n",
    "'https://quantinar.s3.eu-west-3.amazonaws.com/courselet_components%2F133%2F163707963820210525_Hae_Xia_Crypto_Indices-2.pdf',\n",
    "'https://quantinar.s3.eu-west-3.amazonaws.com/courselet_components%2F129%2F163458163120200915+Kim+Hae+Tri+VCRIX.pdf',\n",
    "'https://quantinar.s3.eu-west-3.amazonaws.com/courselet_components%2F123%2F163664570620210922+Mat+Pac+Hae+guide+hedging+CC.pdf',\n",
    "'https://quantinar.s3.eu-west-3.amazonaws.com/courselet_components%2F122%2F163283000220210923+Cul+Hae+Pet+Xia+Cryptocurrency+as+an+asset+class.pdf',\n",
    "'https://quantinar.s3.eu-west-3.amazonaws.com/courselet_components%2F116%2F163774999520210912+Hae+Li+Tao+Dynamic+Crypto+Networks.pdf',\n",
    "'https://quantinar.s3.eu-west-3.amazonaws.com/courselet_components%2F113%2F1632580703FRM+for+Cryptos.pdf',\n",
    "'https://quantinar.s3.eu-west-3.amazonaws.com/courselet_components%2F101%2F163170747120210914+Reu+DSF+Digital+Surrogate+Finance+Doc.pdf',\n",
    "'https://quantinar.s3.eu-west-3.amazonaws.com/courselet_components%2F97%2F163458105020210808+METIS+Win+Pricing+Kernel+Risk+Premium.pdf',\n",
    "'https://quantinar.s3.eu-west-3.amazonaws.com/courselet_components%2F96%2F163299370720210908_CRC21_Hae_Rodeo_or_Ascot.pdf',\n",
    "'https://quantinar.s3.eu-west-3.amazonaws.com/courselet_components%2F96%2F1635155323202109_RoA.pdf',\n",
    "'https://quantinar.s3.eu-west-3.amazonaws.com/courselet_components%2F79%2F164604019720210502+Hae+Har+Reu+Understanding+CCs.pdf',\n",
    "'https://quantinar.s3.eu-west-3.amazonaws.com/courselet_components%2F241%2F1650632942Biographical+Background+Information.pdf',\n",
    "'https://quantinar.s3.eu-west-3.amazonaws.com/courselet_components%2F210%2F164390414020220130+METIS+Gua+Hae+Model+Selection+Criteria.pdf',\n",
    "'https://quantinar.s3.eu-west-3.amazonaws.com/courselet_components%2F194%2F164171878820211207+Hae+Zin+Hierarchical+Clustering.pdf',\n",
    "'https://quantinar.s3.eu-west-3.amazonaws.com/courselet_components%2F170%2F163709451820211117+Hae+Qia+Network+Centrality.pdf',\n",
    "'https://quantinar.s3.eu-west-3.amazonaws.com/courselet_components%2F142%2F163627928020211107+Hae+Iva+Mat+Delaunay+Triangulation_A_Shape.pdf',\n",
    "'https://quantinar.s3.eu-west-3.amazonaws.com/courselet_components%2F135%2F1649084960Chapter+1.pdf',\n",
    "'https://quantinar.s3.eu-west-3.amazonaws.com/courselet_components%2F136%2F1649094328Chapter+2.pdf',\n",
    "'https://quantinar.s3.eu-west-3.amazonaws.com/courselet_components%2F137%2F1633950248Chapter+3.pdf',\n",
    "'https://quantinar.s3.eu-west-3.amazonaws.com/courselet_components%2F138%2F1649094430Chapter+4.pdf'\n",
    ")"
   ]
  },
  {
   "cell_type": "code",
   "execution_count": null,
   "metadata": {},
   "outputs": [],
   "source": [
    "courselist"
   ]
  }
 ],
 "metadata": {
  "kernelspec": {
   "display_name": "Python 3.10.4 64-bit",
   "language": "python",
   "name": "python3"
  },
  "language_info": {
   "codemirror_mode": {
    "name": "ipython",
    "version": 3
   },
   "file_extension": ".py",
   "mimetype": "text/x-python",
   "name": "python",
   "nbconvert_exporter": "python",
   "pygments_lexer": "ipython3",
   "version": "3.10.4"
  },
  "orig_nbformat": 4,
  "vscode": {
   "interpreter": {
    "hash": "aee8b7b246df8f9039afb4144a1f6fd8d2ca17a180786b69acc140d282b71a49"
   }
  }
 },
 "nbformat": 4,
 "nbformat_minor": 2
}

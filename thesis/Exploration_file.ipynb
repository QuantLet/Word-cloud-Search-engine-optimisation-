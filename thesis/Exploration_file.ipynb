{
 "cells": [
  {
   "cell_type": "markdown",
   "metadata": {},
   "source": [
    "# Intro and dependencies"
   ]
  },
  {
   "cell_type": "code",
   "execution_count": 1,
   "metadata": {},
   "outputs": [],
   "source": [
    "import PyPDF2\n",
    "import os\n",
    "import re\n",
    "import requests\n",
    "import pandas as pd\n",
    "import numpy as np\n",
    "from itertools import combinations \n",
    "from itertools import permutations\n",
    "from itertools import chain\n",
    "from nltk.stem import PorterStemmer\n",
    "from nltk.tokenize import word_tokenize\n",
    "from sklearn.decomposition import TruncatedSVD\n",
    "from sklearn.preprocessing import Normalizer\n",
    "from sklearn.decomposition import TruncatedSVD\n",
    "from sklearn.feature_extraction.text import TfidfVectorizer\n",
    "ps = PorterStemmer()"
   ]
  },
  {
   "cell_type": "code",
   "execution_count": 2,
   "metadata": {},
   "outputs": [],
   "source": [
    "courseletlist = (\n",
    "'https://quantinar.s3.eu-west-3.amazonaws.com/courselet_components%2F175%2F163757167020201210_Liu_crypto_p2p_lending.pdf',\n",
    "'https://quantinar.s3.eu-west-3.amazonaws.com/courselet_components%2F272%2F1654160257Lesson1-1.pdf',\n",
    "'https://quantinar.s3.eu-west-3.amazonaws.com/courselet_components%2F273%2F1654160288Lesson1-2.pdf',\n",
    "'https://quantinar.s3.eu-west-3.amazonaws.com/courselet_components%2F274%2F1654160327Lesson1-3.pdf',\n",
    "'https://quantinar.s3.eu-west-3.amazonaws.com/courselet_components%2F275%2F1654160374Lesson1-4.pdf',\n",
    "'https://quantinar.s3.eu-west-3.amazonaws.com/courselet_components%2F276%2F1654160475Lesson1-5.pdf',\n",
    "'https://quantinar.s3.eu-west-3.amazonaws.com/courselet_components%2F277%2F1654160518Lesson1-6.pdf',\n",
    "'https://quantinar.s3.eu-west-3.amazonaws.com/courselet_components%2F279%2F1654251498Lesson2-1.pdf',\n",
    "'https://quantinar.s3.eu-west-3.amazonaws.com/courselet_components%2F278%2F1654160549Lesson1-7.pdf',\n",
    "'https://quantinar.s3.eu-west-3.amazonaws.com/courselet_components%2F280%2F1654251511Lesson2-2.pdf',\n",
    "'https://quantinar.s3.eu-west-3.amazonaws.com/courselet_components%2F281%2F1654251525Lesson2-3.pdf',\n",
    "'https://quantinar.s3.eu-west-3.amazonaws.com/courselet_components%2F103%2F20210303+IA+METIS+Reinforcement+Learning.pdf',\n",
    "'https://quantinar.s3.eu-west-3.amazonaws.com/courselet_components%2F107%2F1636712642CATE_meets_ML_Presentation.pdf',\n",
    "'https://quantinar.s3.eu-west-3.amazonaws.com/courselet_components%2F120%2F163458263420190429+Hae+Ni+LDA+DTM.pdf',\n",
    "'https://quantinar.s3.eu-west-3.amazonaws.com/courselet_components%2F120%2F163646337920210921+Hae+Ni+LDA.pdf',\n",
    "'https://quantinar.s3.eu-west-3.amazonaws.com/courselet_components%2F121%2F163646358220210708+Hae+Ni+LDA+extensions.pdf',\n",
    "'https://quantinar.s3.eu-west-3.amazonaws.com/courselet_components%2F108%2F163595835420210530+METIS+WANG+Kalman+Filter.pdf',\n",
    "'https://quantinar.s3.eu-west-3.amazonaws.com/courselet_components%2F110%2F1632126441nodalida2021_summaryQuality_slides.pdf',\n",
    "'https://quantinar.s3.eu-west-3.amazonaws.com/courselet_components%2F112%2F163664661320211013+Ren+LI+Hae+Expectile+FRM.pdf',\n",
    "'https://quantinar.s3.eu-west-3.amazonaws.com/courselet_components%2F114%2F1635233254Shapley.pdf',\n",
    "'https://quantinar.s3.eu-west-3.amazonaws.com/courselet_components%2F118%2F1636625638FRM%40EM.pdf',\n",
    "'https://quantinar.s3.eu-west-3.amazonaws.com/courselet_components%2F119%2F163231165920210324+Wan+Hae+Li+k-expectile+clustering.pdf',\n",
    "'https://quantinar.s3.eu-west-3.amazonaws.com/courselet_components%2F130%2F1633104997PAC.pdf',\n",
    "'https://quantinar.s3.eu-west-3.amazonaws.com/courselet_components%2F134%2F163368764620210923+Mer+Hae+GAN+Generative+Adversarial+Networks.pdf',\n",
    "'https://quantinar.s3.eu-west-3.amazonaws.com/courselet_components%2F139%2F163402565120211012+Kho+Hae+Trespassing+random+forests+with+a+pointed+stick+for+self+defence.pdf',\n",
    "'https://quantinar.s3.eu-west-3.amazonaws.com/courselet_components%2F217%2F1644582711Berlin_short_course.pdf',\n",
    "'https://quantinar.s3.eu-west-3.amazonaws.com/courselet_components%2F235%2F1649426301Variable+importance+measures+for+RF+.pdf',\n",
    "'https://quantinar.s3.eu-west-3.amazonaws.com/courselet_components%2F179%2F16376558632021122+SBA+JW+Hae+EPF++Quantinar.pdf',\n",
    "'https://quantinar.s3.eu-west-3.amazonaws.com/courselet_components%2F186%2F1645194357Presentation_Quantinar_with_videos.pdf',\n",
    "'https://quantinar.s3.eu-west-3.amazonaws.com/courselet_components%2F306%2FBarHan2021_talk.pdf',\n",
    "'https://quantinar.s3.eu-west-3.amazonaws.com/courselet_components%2F181%2F163826827620211130+LI+Hae+Case+based+Bancruptcy+prediction.pdf',\n",
    "'https://quantinar.s3.eu-west-3.amazonaws.com/courselet_components%2F224%2F164728525020220305+LI+Electricity+Market+Coupling.pdf',\n",
    "'https://quantinar.s3.eu-west-3.amazonaws.com/courselet_components%2F196%2F1642599075163458186420200403+METIS+Kho+Hae+Spectral+Clustering+course.pdf',\n",
    "'https://quantinar.s3.eu-west-3.amazonaws.com/courselet_components%2F198%2F1642599289163231165920210324+Wan+Hae+Li+k-expectile+clustering+course.pdf',\n",
    "'https://quantinar.s3.eu-west-3.amazonaws.com/courselet_components%2F141%2F163527012720210526+SAE+NAG+HAE+SIZ+Understanding+jumps+in+high+frequency+digital+asset+markets.pdf',\n",
    "'https://quantinar.s3.eu-west-3.amazonaws.com/courselet_components%2F201%2F16426862241636625638FRM%40EM_course.pdf',\n",
    "'https://quantinar.s3.eu-west-3.amazonaws.com/courselet_components%2F202%2F1642686343163774999520210912+Hae+Li+Tao+Dynamic+Crypto+Networks_course.pdf',\n",
    "'https://quantinar.s3.eu-west-3.amazonaws.com/courselet_components%2F189%2F163958119120211130+Hae+Wan+Kot+ComputerMuseum.pdf',\n",
    "'https://quantinar.s3.eu-west-3.amazonaws.com/courselet_components%2F183%2F1643806658KDE+ill-posed+problems.pdf',\n",
    "'https://quantinar.s3.eu-west-3.amazonaws.com/courselet_components%2F167%2F163699399420211115+Liu+Word+Embeddings+2.pdf',\n",
    "'https://quantinar.s3.eu-west-3.amazonaws.com/courselet_components%2F157%2F1642778303introduction_data_science.pdf',\n",
    "'https://quantinar.s3.eu-west-3.amazonaws.com/courselet_components%2F180%2F16377653596.+model+assessment+-+part+4+-+appendix.pdf',\n",
    "'https://quantinar.s3.eu-west-3.amazonaws.com/courselet_components%2F128%2F163707553520210331_METIS_Hel_GANs_for_Time_Series.pdf',\n",
    "'https://quantinar.s3.eu-west-3.amazonaws.com/courselet_components%2F127%2F163458156320190528+Cea+Hae+Scagnostics.pdf',\n",
    "'https://quantinar.s3.eu-west-3.amazonaws.com/courselet_components%2F117%2F163458186420200403+METIS+Kho+Hae+Spectral+Clustering.pdf',\n",
    "'https://quantinar.s3.eu-west-3.amazonaws.com/courselet_components%2F106%2F163458175020200914+Hae+DS2+Data+Science+%26+Digital+Society.pdf',\n",
    "'https://quantinar.s3.eu-west-3.amazonaws.com/courselet_components%2F190%2F1640038524Instruction+for+Creating+Quantlets.pdf',\n",
    "'https://quantinar.s3.eu-west-3.amazonaws.com/courselet_components%2F144%2F1636624210NNCSR_Slides.pdf',\n",
    "'https://quantinar.s3.eu-west-3.amazonaws.com/courselet_components%2F184%2F163888970320211207+Zin+Reu+Hae+USC+Quantinar+40+min+PDF.pdf',\n",
    "'https://quantinar.s3.eu-west-3.amazonaws.com/courselet_components%2F133%2F163707963820210525_Hae_Xia_Crypto_Indices-2.pdf',\n",
    "'https://quantinar.s3.eu-west-3.amazonaws.com/courselet_components%2F129%2F163458163120200915+Kim+Hae+Tri+VCRIX.pdf',\n",
    "'https://quantinar.s3.eu-west-3.amazonaws.com/courselet_components%2F123%2F163664570620210922+Mat+Pac+Hae+guide+hedging+CC.pdf',\n",
    "'https://quantinar.s3.eu-west-3.amazonaws.com/courselet_components%2F122%2F163283000220210923+Cul+Hae+Pet+Xia+Cryptocurrency+as+an+asset+class.pdf',\n",
    "'https://quantinar.s3.eu-west-3.amazonaws.com/courselet_components%2F116%2F163774999520210912+Hae+Li+Tao+Dynamic+Crypto+Networks.pdf',\n",
    "'https://quantinar.s3.eu-west-3.amazonaws.com/courselet_components%2F113%2F1632580703FRM+for+Cryptos.pdf',\n",
    "'https://quantinar.s3.eu-west-3.amazonaws.com/courselet_components%2F101%2F163170747120210914+Reu+DSF+Digital+Surrogate+Finance+Doc.pdf',\n",
    "'https://quantinar.s3.eu-west-3.amazonaws.com/courselet_components%2F97%2F163458105020210808+METIS+Win+Pricing+Kernel+Risk+Premium.pdf',\n",
    "'https://quantinar.s3.eu-west-3.amazonaws.com/courselet_components%2F96%2F163299370720210908_CRC21_Hae_Rodeo_or_Ascot.pdf',\n",
    "'https://quantinar.s3.eu-west-3.amazonaws.com/courselet_components%2F96%2F1635155323202109_RoA.pdf',\n",
    "'https://quantinar.s3.eu-west-3.amazonaws.com/courselet_components%2F79%2F164604019720210502+Hae+Har+Reu+Understanding+CCs.pdf',\n",
    "'https://quantinar.s3.eu-west-3.amazonaws.com/courselet_components%2F142%2F163627928020211107+Hae+Iva+Mat+Delaunay+Triangulation_A_Shape.pdf',\n",
    "'https://quantinar.s3.eu-west-3.amazonaws.com/courselet_components%2F135%2F1649084960Chapter+1.pdf',\n",
    "'https://quantinar.s3.eu-west-3.amazonaws.com/courselet_components%2F138%2F1649094430Chapter+4.pdf',\n",
    "# problematic:\n",
    "'https://quantinar.s3.eu-west-3.amazonaws.com/courselet_components%2F197%2F1642599236164171878820211207+Hae+Zin+Hierarchical+Clustering+course.pdf',\n",
    "'https://quantinar.s3.eu-west-3.amazonaws.com/courselet_components%2F241%2F1650632942Biographical+Background+Information.pdf',\n",
    "'https://quantinar.s3.eu-west-3.amazonaws.com/courselet_components%2F210%2F164390414020220130+METIS+Gua+Hae+Model+Selection+Criteria.pdf',\n",
    "'https://quantinar.s3.eu-west-3.amazonaws.com/courselet_components%2F194%2F164171878820211207+Hae+Zin+Hierarchical+Clustering.pdf',\n",
    "'https://quantinar.s3.eu-west-3.amazonaws.com/courselet_components%2F170%2F163709451820211117+Hae+Qia+Network+Centrality.pdf',\n",
    "'https://quantinar.s3.eu-west-3.amazonaws.com/courselet_components%2F136%2F1649094328Chapter+2.pdf',\n",
    "'https://quantinar.s3.eu-west-3.amazonaws.com/courselet_components%2F137%2F1633950248Chapter+3.pdf'\n",
    ")\n",
    "\n",
    "ids = ([\"id-{}\".format(i+1) for i in range(len(courseletlist))])\n",
    "\n",
    "\n",
    "stopwords_list = {\"i\",\"me\",\"my\",\"myself\",\"we\",\"our\",\"ours\",\"ourselves\",\"you\",\"you're\",\"you've\",\"you'll\",\"you'd\",\"your\",\"yours\",\"yourself\",\"yourselves\",\"he\",\"him\",\"his\",\"himself\",\"she\",\"she's\",\"her\",\"hers\",\"herself\",\"it\",\"it's\",\"its\",\"itself\",\"they\",\"them\",\"their\",\"theirs\",\"themselves\",\"what\",\"which\",\"who\",\"whom\",\"this\",'that',\"that'll\",\"these\",\"those\",\"am\",\"is\",\"are\",\"was\",\"were\",\"be\",\"been\",\"being\",\"have\",\"has\",\"had\",\"having\",\"do\",\"does\",\"did\",\"doing\",\"a\",\"an\",\"the\",\"and\",\"but\",\"if\",\"or\",\"because\",\"as\",\"until\",\"while\",\"of\",\"at\",\"by\",\"for\",\"with\",\"about\",\"against\",\"between\",\"into\",\"through\",\"during\",\"before\",\"after\",\"above\",\"below\",\"to\",\"from\",\"up\",\"down\",\"in\",\"out\",\"on\",\"off\",\"over\",\"under\",\"again\",\"further\",\"then\",\"once\",\"here\",\"there\",\"when\",\"where\",\"why\",\"how\",\"all\",\"any\",\"both\",\"each\",\"few\",\"more\",\"most\",\"other\",\"some\",\"such\",\"no\",\"nor\",\"not\",\"only\",\"own\",\"same\",\"so\",\"than\",\"too\",\"very\",\"s\",\"t\",\"can\",\"will\",\"just\",\"don\",\"don't\",\"should\",\"should've\",\"now\",\"d\",\"ll\",\"m\",\"o\",\"re\",\"ve\",\"y\",\"ain\",\"aren\",\"aren't\",\"couldn\",\"couldn't\",\"didn\",\"didn't\",\"doesn\",\"doesn't\",\"hadn\",\"hadn't\",\"hasn\",\"hasn't\",\"haven\",\"haven't\",\"isn\",\"isn't\",\"ma\",\"mightn\",\"mightn't\",\"mustn\",\"mustn't\",\"needn\",\"needn't\",\"shan\",\"shan't\",\"shouldn\",\"shouldn't\",\"wasn\",\"wasn't\",\"weren\",\"weren't\",\"won\",\"won't\",\"wouldn\",\"wouldn't\"}\n",
    "\n",
    "id_matrix = pd.DataFrame({'id': ids, 'url': courseletlist})"
   ]
  },
  {
   "cell_type": "markdown",
   "metadata": {},
   "source": [
    "# Function initiations"
   ]
  },
  {
   "cell_type": "code",
   "execution_count": 3,
   "metadata": {},
   "outputs": [],
   "source": [
    "def download_pdf(file_name, url):\n",
    "    '''Download a PDF file with an URL (Step 1)'''\n",
    "\n",
    "    # Define HTTP Headers\n",
    "    headers = {\"User-Agent\": \"Chrome/51.0.2704.103\"}\n",
    "    \n",
    "    # Download image\n",
    "    response = requests.get(url, headers=headers)\n",
    "    \n",
    "    # if response is OK download the PDF and store it, else write the status\n",
    "    if response.status_code == 200:\n",
    "        with open(file_name, \"wb\") as f:\n",
    "            f.write(response.content)\n",
    "    else:\n",
    "        print(response.status_code)\n",
    "    \n",
    "    return"
   ]
  },
  {
   "cell_type": "code",
   "execution_count": 5,
   "metadata": {},
   "outputs": [],
   "source": [
    "def create_string(file_name):\n",
    "    '''Transform a PDF file to a list of string pages (Step 2)'''\n",
    "    \n",
    "    # opening the file\n",
    "    imported_pdf = open(file_name, 'rb')\n",
    "    \n",
    "    # convert PDF to readable file\n",
    "    transformed_pdf = PyPDF2.PdfFileReader(imported_pdf)\n",
    "    \n",
    "    # get number of pages\n",
    "    totalpages = transformed_pdf.numPages\n",
    "    \n",
    "    # read the data and store in a list\n",
    "    pdf_output = [transformed_pdf.getPage(i) for i in range(totalpages)]\n",
    "    \n",
    "    # extract result\n",
    "    pdf_output = [pdf_output[i].extractText() for i in range(totalpages)]\n",
    "    \n",
    "    return pdf_output, totalpages "
   ]
  },
  {
   "cell_type": "code",
   "execution_count": 6,
   "metadata": {},
   "outputs": [],
   "source": [
    "def cleaning(file_name):\n",
    "    '''Initial PDF cleaning procedure (Step 3)'''\n",
    "    pdf_output, totalpages = create_string(file_name)\n",
    "    \n",
    "    # # cleaning URLs\n",
    "    pdf_output = [re.sub(pattern = \"http[^ ]*\", repl = \" \", string = pdf_output[i]) for i in range(totalpages)]\n",
    "    \n",
    "    # # cleaning symbols\n",
    "    pdf_output = [re.sub(pattern = \"\\\\n\", repl = \" \", string = pdf_output[i]) for i in range(totalpages)]\n",
    "    pdf_output = [re.sub(pattern = \"\\W|\\d\", repl = \" \", string = pdf_output[i]) for i in range(totalpages)]\n",
    "    pdf_output = [re.sub(pattern = \"[^a-zA-Z]\", repl = \" \", string = pdf_output[i]) for i in range(totalpages)]\n",
    "    \n",
    "    # # cleaning multispaces\n",
    "    pdf_output = [re.sub(pattern = \"\\s{2,}\", repl = \" \", string = pdf_output[i]) for i in range(totalpages)]\n",
    "    \n",
    "    # # cleaning out 1-2-worders\n",
    "    pdf_output = [re.sub(pattern = \" .{1,2} \", repl = \" \", string = pdf_output[i]) for i in range(totalpages)]\n",
    "    pdf_output = [re.sub(pattern = \" .{1,2} \", repl = \" \", string = pdf_output[i]) for i in range(totalpages)]\n",
    "    pdf_output = [re.sub(pattern = \" .{1,2} \", repl = \" \", string = pdf_output[i]) for i in range(totalpages)]\n",
    "    \n",
    "    # # lower-casing\n",
    "    pdf_output = [pdf_output[i].lower() for i in range(totalpages)]\n",
    "    pdf_output = [[ps.stem(word) for word in sentence.split(\" \")] for sentence in pdf_output]\n",
    "    pdf_output = [' '.join(pdf_output[i]) for i in range(len(pdf_output))]\n",
    "    \n",
    "    return pdf_output, totalpages"
   ]
  },
  {
   "cell_type": "code",
   "execution_count": 7,
   "metadata": {},
   "outputs": [],
   "source": [
    "def word_lists(file_name):\n",
    "    '''Creating the base one-word, two-word and three-word lists, the permutation lists for two- and three-word lists (Step 4)'''\n",
    "    \n",
    "    pdf_output, totalpages = cleaning(file_name)\n",
    "\n",
    "    # split to a list\n",
    "    word_list = [pdf_output[i].split(\" \") for i in range(totalpages)]\n",
    "    \n",
    "    # stemming\n",
    "    word_list_stemmed = [[ps.stem(word_list[i][j]) for j in range(len(word_list[i]))] for i in range(totalpages)]    \n",
    "    word_list_stemmed = pd.DataFrame(word_list_stemmed)\n",
    "    \n",
    "    # one-word section\n",
    "    one_word_list = [word_list_stemmed.iloc[j, i] for j in range(totalpages) for i in range(word_list_stemmed.shape[1])]\n",
    "    one_word_list = [x for x in one_word_list if x not in stopwords_list]\n",
    "\n",
    "    # two-word section\n",
    "    two_word_list = [[word_list_stemmed.iloc[j, i], word_list_stemmed.iloc[j, i+1]] for j in range(totalpages)  for i in range(word_list_stemmed.shape[1] - 1)]\n",
    "    two_word_permutation_list = [[p for p in permutations(two_word_list[k])][1:] for k in range(len(two_word_list))]\n",
    "    two_word_permutation_set = set(list(chain(*two_word_permutation_list)))\n",
    "    two_word_permutation_set = pd.DataFrame(two_word_permutation_set)\n",
    "\n",
    "    # three-word section\n",
    "    three_word_list = [[word_list_stemmed.iloc[j, i], word_list_stemmed.iloc[j, i+1], word_list_stemmed.iloc[j, i+2]] for j in range(totalpages) for i in range(word_list_stemmed.shape[1] - 2)]\n",
    "    three_word_permutation_list = [[p for p in permutations(three_word_list[k])][1:] for k in range(len(three_word_list))]\n",
    "    three_word_permutation_set = set(list(chain(*three_word_permutation_list)))\n",
    "    three_word_permutation_set = pd.DataFrame(three_word_permutation_set)\n",
    "\n",
    "    return word_list_stemmed, one_word_list, two_word_list, two_word_permutation_list, two_word_permutation_set, three_word_list, three_word_permutation_list, three_word_permutation_set"
   ]
  },
  {
   "cell_type": "code",
   "execution_count": 8,
   "metadata": {},
   "outputs": [],
   "source": [
    "def occurance_one_matrix_creator(file_name):\n",
    "    '''Creating the occurrance matrix for one-word combinations (Step 7)'''\n",
    "    \n",
    "    word_list_stemmed, one_word_list, two_word_list, two_word_permutation_list, two_word_permutation_set, three_word_list, three_word_permutation_list, three_word_permutation_set = word_lists(file_name)\n",
    "    \n",
    "    # copying the data\n",
    "    words = one_word_list.copy()\n",
    "    \n",
    "    # creating the three-word combinations as one string\n",
    "    words = [x for x in words if x != \"\"]\n",
    "    words = [x for x in words if x != \" \"]    \n",
    "    \n",
    "    # crating the dictionary\n",
    "    dictionary_one_word = {}\n",
    "    \n",
    "    # counting word occurances\n",
    "    for word in words:\n",
    "        if word in dictionary_one_word:\n",
    "            dictionary_one_word[word] = dictionary_one_word[word] + 1\n",
    "        else:\n",
    "            dictionary_one_word[word] = 1\n",
    "    dictionary_one_word = list(dictionary_one_word)\n",
    "    dictionary_one_word = list(filter(None, dictionary_one_word))\n",
    "    \n",
    "    return dictionary_one_word"
   ]
  },
  {
   "cell_type": "code",
   "execution_count": null,
   "metadata": {},
   "outputs": [],
   "source": [
    "# def combined_pdf_creator():\n",
    "#     '''Creating the final master-pdf dataframe'''\n",
    "\n",
    "# download the first pdf\n",
    "download_pdf(ids[0], courseletlist[0])\n",
    "\n",
    "# clean the first pdf\n",
    "pdf_output, totalpages = cleaning(ids[0])\n",
    "\n",
    "# create a word list of the first pdf\n",
    "word_list_stemmed, one_word_list, two_word_list, two_word_permutation_list, two_word_permutation_set, three_word_list, three_word_permutation_list, three_word_permutation_set = word_lists(ids[0])\n",
    "\n",
    "# create a one-word dictionary\n",
    "dictionary_one_word = occurance_one_matrix_creator(ids[0])\n",
    "\n",
    "# combine the pdf\n",
    "combined_pdf = [' '.join(pdf_output)]\n",
    "\n",
    "# iterate on above\n",
    "for i in range(1, 70):\n",
    "    print(i)\n",
    "    download_pdf(ids[i], courseletlist[i])\n",
    "    pdf_output, totalpages = cleaning(ids[i])\n",
    "    word_list_stemmed, one_word_list, two_word_list, two_word_permutation_list, two_word_permutation_set, three_word_list, three_word_permutation_list, three_word_permutation_set = word_lists(ids[i])\n",
    "    dictionary_one_word_0 = occurance_one_matrix_creator(ids[i])\n",
    "    [dictionary_one_word.append(j) for j in dictionary_one_word_0]\n",
    "    combined_pdf.append(' '.join(pdf_output))\n",
    "    \n",
    "    # return combined_pdf, dictionary_one_word"
   ]
  },
  {
   "cell_type": "markdown",
   "metadata": {},
   "source": [
    "# TFIDF Section"
   ]
  },
  {
   "cell_type": "code",
   "execution_count": 244,
   "metadata": {},
   "outputs": [],
   "source": [
    "# tfidf-ing the 1-word list\n",
    "vectorizer_one = TfidfVectorizer(smooth_idf=True, sublinear_tf=True, use_idf=True, lowercase = False, stop_words = stopwords_list, ngram_range=(1,1))\n",
    "X_one = vectorizer_one.fit_transform(combined_pdf)\n",
    "\n",
    "# tfidf-ing the 2-word list\n",
    "vectorizer_two = TfidfVectorizer(smooth_idf=True, sublinear_tf=True, use_idf=True, lowercase = False, stop_words = stopwords_list, ngram_range=(2,2))\n",
    "X_two = vectorizer_two.fit_transform(combined_pdf)\n",
    "\n",
    "# tfidf-ing the 3-word list\n",
    "vectorizer_three = TfidfVectorizer(smooth_idf=True, sublinear_tf=True, use_idf=True, lowercase = False, stop_words = stopwords_list, ngram_range=(3,3))\n",
    "X_three = vectorizer_three.fit_transform(combined_pdf)"
   ]
  },
  {
   "cell_type": "code",
   "execution_count": 245,
   "metadata": {},
   "outputs": [],
   "source": [
    "# dataframe for tfidf 1-word list\n",
    "xx_one = pd.DataFrame(X_one.toarray(), columns = \n",
    "vectorizer_one.get_feature_names_out())\n",
    "\n",
    "# dataframe for tfidf 2-word list\n",
    "xx_two = pd.DataFrame(X_two.toarray(), columns = \n",
    "vectorizer_two.get_feature_names_out())\n",
    "\n",
    "# dataframe for tfidf 3-word list\n",
    "xx_three = pd.DataFrame(X_three.toarray(), columns = \n",
    "vectorizer_three.get_feature_names_out())"
   ]
  },
  {
   "cell_type": "markdown",
   "metadata": {},
   "source": [
    "# SVD Section"
   ]
  },
  {
   "cell_type": "code",
   "execution_count": 107,
   "metadata": {},
   "outputs": [],
   "source": [
    "component_one_test = []\n",
    "for i in range(1,70):\n",
    "    lsa_obj = TruncatedSVD(n_components=i)\n",
    "    tfidf_lsa_data_one = lsa_obj.fit_transform(X_one)\n",
    "    component_one_test.append(lsa_obj.explained_variance_ratio_.sum())\n",
    "component_one_test_plot = pd.DataFrame({'components': range(1,70), 'explained_var' : component_one_test})"
   ]
  },
  {
   "cell_type": "code",
   "execution_count": 108,
   "metadata": {},
   "outputs": [
    {
     "data": {
      "text/plain": [
       "<matplotlib.lines._AxLine at 0x1650e4790>"
      ]
     },
     "execution_count": 108,
     "metadata": {},
     "output_type": "execute_result"
    },
    {
     "data": {
      "image/png": "[encoded data removed]",
      "text/plain": [
       "<Figure size 1296x1080 with 1 Axes>"
      ]
     },
     "metadata": {
      "needs_background": "light"
     },
     "output_type": "display_data"
    }
   ],
   "source": [
    "import seaborn as sns\n",
    "import matplotlib.pyplot as plt\n",
    "\n",
    "fig, ax = plt.subplots()\n",
    "fig.set_size_inches(18, 15)\n",
    "sns.barplot(x = component_one_test_plot.components, y = component_one_test_plot.explained_var).set(title='SVD components and explained variance: one-word lists')\n",
    "ax.axline((0,0), (64,1), color = 'k')"
   ]
  },
  {
   "cell_type": "code",
   "execution_count": 109,
   "metadata": {},
   "outputs": [],
   "source": [
    "component_two_test = []\n",
    "for i in range(1,70):\n",
    "    lsa_obj = TruncatedSVD(n_components=i)\n",
    "    tfidf_lsa_data_two = lsa_obj.fit_transform(X_two)\n",
    "    component_two_test.append(lsa_obj.explained_variance_ratio_.sum())\n",
    "component_two_test_plot = pd.DataFrame({'components': range(1,70), 'explained_var' : component_two_test})"
   ]
  },
  {
   "cell_type": "code",
   "execution_count": 110,
   "metadata": {},
   "outputs": [
    {
     "data": {
      "text/plain": [
       "<matplotlib.lines._AxLine at 0x16527f940>"
      ]
     },
     "execution_count": 110,
     "metadata": {},
     "output_type": "execute_result"
    },
    {
     "data": {
      "image/png": "[encoded data removed]",
      "text/plain": [
       "<Figure size 1296x1080 with 1 Axes>"
      ]
     },
     "metadata": {
      "needs_background": "light"
     },
     "output_type": "display_data"
    }
   ],
   "source": [
    "import seaborn as sns\n",
    "import matplotlib.pyplot as plt\n",
    "\n",
    "fig, ax = plt.subplots()\n",
    "fig.set_size_inches(18, 15)\n",
    "sns.barplot(x = component_two_test_plot.components, y = component_two_test_plot.explained_var).set(title='SVD components and explained variance: two-word lists')\n",
    "ax.axline((0,0), (64,1), color = 'k')"
   ]
  },
  {
   "cell_type": "code",
   "execution_count": 111,
   "metadata": {},
   "outputs": [],
   "source": [
    "component_three_test = []\n",
    "for i in range(1,70):\n",
    "    lsa_obj = TruncatedSVD(n_components=i)\n",
    "    tfidf_lsa_data_three = lsa_obj.fit_transform(X_three)\n",
    "    component_three_test.append(lsa_obj.explained_variance_ratio_.sum())\n",
    "component_three_test_plot = pd.DataFrame({'components': range(1,70), 'explained_var' : component_three_test})"
   ]
  },
  {
   "cell_type": "code",
   "execution_count": 112,
   "metadata": {},
   "outputs": [
    {
     "data": {
      "text/plain": [
       "<matplotlib.lines._AxLine at 0x16943cdf0>"
      ]
     },
     "execution_count": 112,
     "metadata": {},
     "output_type": "execute_result"
    },
    {
     "data": {
      "image/png": "[encoded data removed]",
      "text/plain": [
       "<Figure size 1296x1080 with 1 Axes>"
      ]
     },
     "metadata": {
      "needs_background": "light"
     },
     "output_type": "display_data"
    }
   ],
   "source": [
    "import seaborn as sns\n",
    "import matplotlib.pyplot as plt\n",
    "\n",
    "fig, ax = plt.subplots()\n",
    "fig.set_size_inches(18, 15)\n",
    "sns.barplot(x = component_three_test_plot.components, y = component_three_test_plot.explained_var).set(title='SVD components and explained variance: three-word lists')\n",
    "ax.axline((0,0), (64,1), color = 'k')"
   ]
  },
  {
   "cell_type": "code",
   "execution_count": 113,
   "metadata": {},
   "outputs": [
    {
     "data": {
      "text/html": [
       "<div>\n",
       "<style scoped>\n",
       "    .dataframe tbody tr th:only-of-type {\n",
       "        vertical-align: middle;\n",
       "    }\n",
       "\n",
       "    .dataframe tbody tr th {\n",
       "        vertical-align: top;\n",
       "    }\n",
       "\n",
       "    .dataframe thead th {\n",
       "        text-align: right;\n",
       "    }\n",
       "</style>\n",
       "<table border=\"1\" class=\"dataframe\">\n",
       "  <thead>\n",
       "    <tr style=\"text-align: right;\">\n",
       "      <th></th>\n",
       "      <th>one</th>\n",
       "      <th>two</th>\n",
       "      <th>three</th>\n",
       "    </tr>\n",
       "  </thead>\n",
       "  <tbody>\n",
       "    <tr>\n",
       "      <th>0</th>\n",
       "      <td>0.006780</td>\n",
       "      <td>0.024131</td>\n",
       "      <td>0.025205</td>\n",
       "    </tr>\n",
       "    <tr>\n",
       "      <th>1</th>\n",
       "      <td>0.042866</td>\n",
       "      <td>0.052996</td>\n",
       "      <td>0.054147</td>\n",
       "    </tr>\n",
       "    <tr>\n",
       "      <th>2</th>\n",
       "      <td>0.077057</td>\n",
       "      <td>0.082337</td>\n",
       "      <td>0.082709</td>\n",
       "    </tr>\n",
       "    <tr>\n",
       "      <th>3</th>\n",
       "      <td>0.106705</td>\n",
       "      <td>0.111068</td>\n",
       "      <td>0.111773</td>\n",
       "    </tr>\n",
       "    <tr>\n",
       "      <th>4</th>\n",
       "      <td>0.134581</td>\n",
       "      <td>0.137777</td>\n",
       "      <td>0.139947</td>\n",
       "    </tr>\n",
       "    <tr>\n",
       "      <th>...</th>\n",
       "      <td>...</td>\n",
       "      <td>...</td>\n",
       "      <td>...</td>\n",
       "    </tr>\n",
       "    <tr>\n",
       "      <th>64</th>\n",
       "      <td>1.000000</td>\n",
       "      <td>1.000000</td>\n",
       "      <td>1.000000</td>\n",
       "    </tr>\n",
       "    <tr>\n",
       "      <th>65</th>\n",
       "      <td>1.000000</td>\n",
       "      <td>1.000000</td>\n",
       "      <td>1.000000</td>\n",
       "    </tr>\n",
       "    <tr>\n",
       "      <th>66</th>\n",
       "      <td>1.000000</td>\n",
       "      <td>1.000000</td>\n",
       "      <td>1.000000</td>\n",
       "    </tr>\n",
       "    <tr>\n",
       "      <th>67</th>\n",
       "      <td>1.000000</td>\n",
       "      <td>1.000000</td>\n",
       "      <td>1.000000</td>\n",
       "    </tr>\n",
       "    <tr>\n",
       "      <th>68</th>\n",
       "      <td>1.000000</td>\n",
       "      <td>1.000000</td>\n",
       "      <td>1.000000</td>\n",
       "    </tr>\n",
       "  </tbody>\n",
       "</table>\n",
       "<p>69 rows × 3 columns</p>\n",
       "</div>"
      ],
      "text/plain": [
       "         one       two     three\n",
       "0   0.006780  0.024131  0.025205\n",
       "1   0.042866  0.052996  0.054147\n",
       "2   0.077057  0.082337  0.082709\n",
       "3   0.106705  0.111068  0.111773\n",
       "4   0.134581  0.137777  0.139947\n",
       "..       ...       ...       ...\n",
       "64  1.000000  1.000000  1.000000\n",
       "65  1.000000  1.000000  1.000000\n",
       "66  1.000000  1.000000  1.000000\n",
       "67  1.000000  1.000000  1.000000\n",
       "68  1.000000  1.000000  1.000000\n",
       "\n",
       "[69 rows x 3 columns]"
      ]
     },
     "execution_count": 113,
     "metadata": {},
     "output_type": "execute_result"
    }
   ],
   "source": [
    "componenets_results = pd.DataFrame({'one': component_one_test, 'two': component_two_test, 'three': component_three_test})\n",
    "componenets_results"
   ]
  },
  {
   "cell_type": "code",
   "execution_count": 132,
   "metadata": {},
   "outputs": [],
   "source": [
    "lsa_obj = TruncatedSVD(n_components=64)\n",
    "tfidf_lsa_data_one = lsa_obj.fit_transform(X_one)\n",
    "Sigma_one = lsa_obj.singular_values_\n",
    "V_T_one = lsa_obj.components_.T\n",
    "\n",
    "# lsa_obj = TruncatedSVD(n_components=64)\n",
    "# tfidf_lsa_data_two = lsa_obj.fit_transform(X_two)\n",
    "# Sigma_two = lsa_obj.singular_values_\n",
    "# V_T_two = lsa_obj.components_.T\n",
    "\n",
    "# lsa_obj = TruncatedSVD(n_components=64)\n",
    "# tfidf_lsa_data_three = lsa_obj.fit_transform(X_three)\n",
    "# Sigma_three = lsa_obj.singular_values_\n",
    "# V_T_three = lsa_obj.components_.T"
   ]
  },
  {
   "cell_type": "code",
   "execution_count": 133,
   "metadata": {},
   "outputs": [
    {
     "data": {
      "text/plain": [
       "array([[ 0.33959524, -0.1334264 , -0.05757287, ...,  0.00960322,\n",
       "         0.00320603, -0.02925027],\n",
       "       [ 0.25663173, -0.24305892, -0.27314246, ...,  0.00911879,\n",
       "        -0.01717998,  0.00960308],\n",
       "       [ 0.29381254, -0.24361159, -0.28574507, ..., -0.00653022,\n",
       "        -0.02086687, -0.01957068],\n",
       "       ...,\n",
       "       [ 0.33106747,  0.02279812,  0.07489801, ...,  0.00253424,\n",
       "        -0.00940009,  0.00649531],\n",
       "       [ 0.21378673,  0.17855172, -0.1060185 , ...,  0.01323632,\n",
       "        -0.00158011,  0.00307824],\n",
       "       [ 0.24011843,  0.2187638 , -0.10311457, ..., -0.04465321,\n",
       "         0.0152759 , -0.00392331]])"
      ]
     },
     "execution_count": 133,
     "metadata": {},
     "output_type": "execute_result"
    }
   ],
   "source": [
    "# generates U\n",
    "tfidf_lsa_data_one"
   ]
  },
  {
   "cell_type": "code",
   "execution_count": 134,
   "metadata": {},
   "outputs": [
    {
     "data": {
      "text/plain": [
       "array([2.68216527, 1.5105588 , 1.47513704, 1.37242492, 1.3259871 ,\n",
       "       1.31456251, 1.29528215, 1.267049  , 1.24962665, 1.20977248,\n",
       "       1.16369145, 1.14354295, 1.1314173 , 1.11514731, 1.05711844,\n",
       "       1.05386862, 1.04924573, 1.01776279, 1.01210123, 1.00414197,\n",
       "       0.99794674, 0.99346748, 0.98956785, 0.98506538, 0.98306292,\n",
       "       0.97734644, 0.97083631, 0.96089497, 0.95982652, 0.95289366,\n",
       "       0.94875495, 0.94640772, 0.94336823, 0.93811888, 0.93285972,\n",
       "       0.92575518, 0.92147663, 0.91972258, 0.91020246, 0.9081872 ,\n",
       "       0.90517979, 0.90356756, 0.89728644, 0.89045102, 0.88598098,\n",
       "       0.88397123, 0.87473535, 0.87085789, 0.86840396, 0.85799197,\n",
       "       0.84518536, 0.8432229 , 0.84087571, 0.82799252, 0.81874818,\n",
       "       0.81449319, 0.79644961, 0.78529345, 0.76684894, 0.75108447,\n",
       "       0.741904  , 0.72023113, 0.71286929, 0.69920417])"
      ]
     },
     "execution_count": 134,
     "metadata": {},
     "output_type": "execute_result"
    }
   ],
   "source": [
    "# generate Sigma.\n",
    "# The singular values corresponding to each of the selected components. The singular values are equal to the 2-norms of the n_components variables in the lower-dimensional space.\n",
    "Sigma_one"
   ]
  },
  {
   "cell_type": "code",
   "execution_count": 125,
   "metadata": {},
   "outputs": [
    {
     "data": {
      "text/plain": [
       "array([[ 1.03428944e-03,  2.63054966e-04,  2.63054966e-04, ...,\n",
       "         3.99046446e-04,  2.63054965e-04,  8.72874474e-06],\n",
       "       [ 6.69161574e-04,  1.82282059e-04,  1.82282059e-04, ...,\n",
       "         3.01195826e-04,  1.82282059e-04,  6.98993767e-06],\n",
       "       [ 5.12898505e-04,  4.36778594e-05,  4.36778596e-05, ...,\n",
       "         5.22773277e-04,  4.36778596e-05,  3.62859393e-05],\n",
       "       ...,\n",
       "       [-3.61296499e-04,  2.91487444e-04,  2.91487444e-04, ...,\n",
       "         3.76727290e-04,  2.91487444e-04, -9.67570026e-05],\n",
       "       [ 1.53499024e-03,  9.12511862e-03,  9.12511862e-03, ...,\n",
       "        -7.69892703e-05,  9.12511862e-03, -3.21697828e-05],\n",
       "       [ 2.34154505e-03,  1.57996877e-02,  1.57996877e-02, ...,\n",
       "        -6.15695768e-05,  1.57996877e-02,  5.53182804e-05]])"
      ]
     },
     "execution_count": 125,
     "metadata": {},
     "output_type": "execute_result"
    }
   ],
   "source": [
    "# The right singular vectors of the input data.\n",
    "lsa_obj.components_"
   ]
  },
  {
   "cell_type": "code",
   "execution_count": 135,
   "metadata": {},
   "outputs": [
    {
     "data": {
      "text/plain": [
       "array([[ 6.91589338e-03, -2.02154962e-03, -1.39453904e-02, ...,\n",
       "         3.39062187e-03,  1.59971107e-02,  2.48770833e-03],\n",
       "       [ 1.10662953e-03,  2.81192945e-04, -1.44490557e-03, ...,\n",
       "        -1.33585586e-03, -4.70961458e-03, -8.57562541e-04],\n",
       "       [ 8.56332105e-04,  2.12214064e-04, -1.11587925e-03, ...,\n",
       "        -1.36235479e-03, -5.36469618e-03, -1.63232670e-03],\n",
       "       ...,\n",
       "       [ 2.74642692e-03, -4.16396337e-03,  7.41339349e-03, ...,\n",
       "        -2.46209776e-02, -7.11223025e-03,  6.05940728e-02],\n",
       "       [ 8.56332105e-04,  2.12214064e-04, -1.11587925e-03, ...,\n",
       "        -1.36235479e-03, -5.36469618e-03, -1.63232670e-03],\n",
       "       [ 1.56425699e-03, -2.31660728e-04, -9.03641714e-05, ...,\n",
       "         1.97902975e-03, -4.68000476e-04,  8.20712631e-04]])"
      ]
     },
     "execution_count": 135,
     "metadata": {},
     "output_type": "execute_result"
    }
   ],
   "source": [
    "# generates Sgenerates V_T\n",
    "V_T_one"
   ]
  },
  {
   "cell_type": "code",
   "execution_count": 136,
   "metadata": {},
   "outputs": [
    {
     "name": "stdout",
     "output_type": "stream",
     "text": [
      "explained_variance_ratio_:\n",
      " [0.00678007 0.0361063  0.03421781 0.02974027 0.02781938 0.02730799\n",
      " 0.02643953 0.02541417 0.02469629 0.02308225 0.02139957 0.02069885\n",
      " 0.02026888 0.01961024 0.01769006 0.01758559 0.01740493 0.01634715\n",
      " 0.01620681 0.01585216 0.01574531 0.01561994 0.01548155 0.01536022\n",
      " 0.01529879 0.01511994 0.01491706 0.01461776 0.01458644 0.01437471\n",
      " 0.01425196 0.01415305 0.01408835 0.0139142  0.01376431 0.01356989\n",
      " 0.01344189 0.0133804  0.01311754 0.01305956 0.01296459 0.01292525\n",
      " 0.01274579 0.01255385 0.0124288  0.01237056 0.01210726 0.01200231\n",
      " 0.01194048 0.01165475 0.01131051 0.011253   0.01119334 0.01085131\n",
      " 0.01061398 0.01050288 0.01004354 0.00976412 0.00930789 0.00892914\n",
      " 0.00871127 0.00821345 0.00804117 0.00773784] \n",
      "\n",
      "explained_variance_ratio_:\n",
      " 0.9926982481849876 \n",
      "\n",
      "singular_values_:\n",
      " [2.68216527 1.5105588  1.47513704 1.37242492 1.3259871  1.31456251\n",
      " 1.29528215 1.267049   1.24962665 1.20977248 1.16369145 1.14354295\n",
      " 1.1314173  1.11514731 1.05711844 1.05386862 1.04924573 1.01776279\n",
      " 1.01210123 1.00414197 0.99794674 0.99346748 0.98956785 0.98506538\n",
      " 0.98306292 0.97734644 0.97083631 0.96089497 0.95982652 0.95289366\n",
      " 0.94875495 0.94640772 0.94336823 0.93811888 0.93285972 0.92575518\n",
      " 0.92147663 0.91972258 0.91020246 0.9081872  0.90517979 0.90356756\n",
      " 0.89728644 0.89045102 0.88598098 0.88397123 0.87473535 0.87085789\n",
      " 0.86840396 0.85799197 0.84518536 0.8432229  0.84087571 0.82799252\n",
      " 0.81874818 0.81449319 0.79644961 0.78529345 0.76684894 0.75108447\n",
      " 0.741904   0.72023113 0.71286929 0.69920417] \n",
      "\n",
      "get_feature_names_out:\n",
      " <bound method _ClassNamePrefixFeaturesOutMixin.get_feature_names_out of TruncatedSVD(n_components=64)>\n"
     ]
    }
   ],
   "source": [
    "print('explained_variance_ratio_:\\n', lsa_obj.explained_variance_ratio_, '\\n')\n",
    "\n",
    "print('explained_variance_ratio_:\\n', lsa_obj.explained_variance_ratio_.sum(), '\\n')\n",
    "\n",
    "print('singular_values_:\\n', lsa_obj.singular_values_, '\\n')\n",
    "\n",
    "print('get_feature_names_out:\\n', lsa_obj.get_feature_names_out)"
   ]
  },
  {
   "cell_type": "markdown",
   "metadata": {},
   "source": [
    "# Word count visualisation section"
   ]
  },
  {
   "cell_type": "code",
   "execution_count": 188,
   "metadata": {},
   "outputs": [],
   "source": [
    "# vectorizer_one = TfidfVectorizer(smooth_idf=True, sublinear_tf=True, use_idf=True, lowercase = False, stop_words = stopwords_list, ngram_range=(1,1))\n",
    "# input_matrix = vectorizer_one.fit_transform(combined_pdf).todense()"
   ]
  },
  {
   "cell_type": "code",
   "execution_count": null,
   "metadata": {},
   "outputs": [],
   "source": [
    "# svd_modelling = TruncatedSVD(n_components=64)\n",
    "# svd_modelling.fit_transform(input_matrix)\n",
    "# components = svd_modelling.components_\n",
    "# vocab = vectorizer_one.get_feature_names_out()"
   ]
  },
  {
   "cell_type": "code",
   "execution_count": 196,
   "metadata": {},
   "outputs": [
    {
     "data": {
      "text/plain": [
       "['partit', 'spectral']"
      ]
     },
     "execution_count": 196,
     "metadata": {},
     "output_type": "execute_result"
    }
   ],
   "source": [
    "# Getting the best words for each vector\n",
    "test = [xx_one.columns[i] for i in lsa_obj.components_[1].argsort()[::-1]][:64]\n",
    "test"
   ]
  },
  {
   "cell_type": "code",
   "execution_count": 246,
   "metadata": {},
   "outputs": [
    {
     "name": "stderr",
     "output_type": "stream",
     "text": [
      "/Library/Frameworks/Python.framework/Versions/3.10/lib/python3.10/site-packages/sklearn/utils/deprecation.py:87: FutureWarning: Function get_feature_names is deprecated; get_feature_names is deprecated in 1.0 and will be removed in 1.2. Please use get_feature_names_out instead.\n",
      "  warnings.warn(msg, category=FutureWarning)\n"
     ]
    }
   ],
   "source": [
    "svd_modelling = TruncatedSVD(n_components=64)\n",
    "svd_modelling.fit_transform(X_one)\n",
    "components = svd_modelling.components_\n",
    "vocab = vectorizer_one.get_feature_names()"
   ]
  },
  {
   "cell_type": "code",
   "execution_count": 238,
   "metadata": {},
   "outputs": [
    {
     "data": {
      "text/plain": [
       "array(['aaab', 'aaac', 'aaacchicbvfna', ..., 'zytjtvt', 'zzl', 'zzt'],\n",
       "      dtype=object)"
      ]
     },
     "execution_count": 238,
     "metadata": {},
     "output_type": "execute_result"
    }
   ],
   "source": []
  },
  {
   "cell_type": "code",
   "execution_count": 237,
   "metadata": {},
   "outputs": [
    {
     "data": {
      "text/plain": [
       "['  model data time market cluster return network use berlin price',\n",
       " '  partit spectral cluster wij sat mat clusteringgraph eval evec cat',\n",
       " '  frm emerg uplift hrp risk index pariti portfolio equiti lasso',\n",
       " '  nvcpinkrddstratxbcbtsburstdgbdogeltcardrgntlskpascxrpbtcetcethomniscdashdcrfctgnonmrdynam spectral laplacian cluster edg btcomnigntclambbrdgbsclsknmrblitzltcethbtsfctdogestratsteembtcddmdbtmgroup crypto block groupg graph',\n",
       " '  hierarch proxim linkag nancial clusteringclust health clusteringr dendrogram frm hash',\n",
       " '  expectil kec crix vtau xij clusterclust convergenceno round clusteringk arg',\n",
       " '  latexit null lda dirichlet sha aaab doc king document death',\n",
       " '  jump linkag volatil proxim price health understand ascot rodeo clusteringr',\n",
       " '  clusteringgraph eval evec cut clusteringspectr laplacian relax gap slide wij',\n",
       " '  quiz advanc mathemat volatil lemma call ascot rodeo cryptocurr calculu',\n",
       " '  adversari gan recurr crix vanilla discrimin gogh rp stack cnn',\n",
       " '  forest signatur stephani olivia pointer scornet random messag breiman split',\n",
       " '  bitcoin jalan futur adversari uncertainti matkovskyy shock euro inflat hedg',\n",
       " '  triangul mst delaunay shape hull shapley stephani edg olivia scagnost',\n",
       " '  triangul mst shape delaunay hull sc convex contract scagnost hedg',\n",
       " '  vcrix log vix hubvcrix ds order bch btc cryptosfrm cyh',\n",
       " '  pose electr stephani hybrid olivia blockchain signatur wise xmu kernel',\n",
       " '  analyt scopeof pose scienc busi learn transform decis generaliz scope',\n",
       " '  pose ill fourier invers kde calibr cgmi det premia vegab',\n",
       " '  med vec som profil summari fra det byggetiden qualiti bathroom',\n",
       " '  kalman introduct triangul filterestim delaunay filter portfolio shape ktc temperatur',\n",
       " '  reinforc action scopeof btc analyt rule reward insight mykland mine',\n",
       " '  submiss signatur digit guid ask repositori mykland quantlet forg public',\n",
       " '  hubvcrix scornet det vcrix crix erwan xmu med biau vix',\n",
       " '  submiss fork repositori kalman pull guid request readm styleguid filterestim',\n",
       " '  submiss repositori metisnet pull guid minnesota road request readm contagion',\n",
       " '  diversif profil pdrpc vrc ac bouldin cpw sharp optim silhouett',\n",
       " '  profil diversif pdrpc vrc ac risk portfolio bouldin cpw silhouett',\n",
       " '  kalman filterestim observ temperatur ktc understand eobjt spaceship featur modelr',\n",
       " '  pose ill limx kde fourier aga hincorrect rdleladislau transformtheori xdx',\n",
       " '  pose ill empir money stock collater lend ltv premia asset',\n",
       " '  encod glove embed bert turn pleas stephani attent olivia crise',\n",
       " '  bankruptci cash bank credit cbr udcurlymod compani calibr solvent fee',\n",
       " '  mykland mio marketsidentifi kalman traf jacod nkm parenleftbig parenrightbig ation',\n",
       " '  signatur forg hubvcrix digit museum person peopl disk compon whi',\n",
       " '  attribut comprehens justifi versu household woe miss irrelev build sale',\n",
       " '  premia band denc constraint calculu bankruptci neutral binomi erenti lim',\n",
       " '  credit profil privat diversif pdrpc vrc submiss ac triangul delaunay',\n",
       " '  app liquid appl scopeof panel ticker roughli bp stephani analyt',\n",
       " '  collater ltv root lend lender borrow stephani olivia lendingbatch loan',\n",
       " '  erenti clipper signatur deriv chaum finney blind hal rpow nakamoto',\n",
       " '  scopeof prefer isomorph algebra generaliz scope rand premia biject morphism',\n",
       " '  metisnet limn minnesota process multimodel distmax distmindistmin edg contagion coauthorship',\n",
       " '  kurtosi xia skew hodl hongyu bgci bitwis spot romam viae',\n",
       " '  pac learnabl lemp agnost realis erm vcdim nuc hsm sii',\n",
       " '  month spot aler intervenmon introducmon hlr chung robust decentr causal',\n",
       " '  clipper chaum chip finney money ds blind hal rpow backdoor',\n",
       " '  trespass space algebra llwnn basi det imf ivi defenc garma',\n",
       " '  hubvcrix legal intermediari stephani owner olivia merchant cash claim ledger',\n",
       " '  calculu strict composit trespass exiv transit xri erenti yrx prefer',\n",
       " '  llwnn imf garma epex neurofuzzi hodl gegenbau bgci bitwis frequenc',\n",
       " '  hodl bgci bitwis psr coupl algebra ipi sharp cap track',\n",
       " '  topolog sup hubvcrix clo inf convex ball puzzl nxm metric',\n",
       " '  erenti coher calculu interpret art current di must king dtest',\n",
       " '  ledger trespass card accumul affect sup intermediari topolog clo monetari',\n",
       " '  ada signatur xmr chainlink cryptosfrm cardano tether polkadot xlm usdt',\n",
       " '  epu nikkei gbpdecreas connected corbet diebold yilmaz usa japan monetari',\n",
       " '  scagnost startup splom stringi consider scatterplot coutli cskew inv coupl',\n",
       " '  cryptosfrm lambda pointer costress bsv btc power bch innbcl oo',\n",
       " '  stephani pointer sign noon strongest visibl olivia www thousand com',\n",
       " '  contractsbas contractsdo contractsindustri sustain contractsa perspect coke contractsresearch contractssustainabilityenvironment incub',\n",
       " '  kerf xiand mcc grant duroux kmk erwan centr misl proper',\n",
       " '  citat languag asovq blgbsokbadzw brxloeijueuplicbtxb bzfxiapz dkorq dmsoffexc efdeqz fkatrz',\n",
       " '  wear hat ascot rodeo race vola dlog understand datecrixclust fallsvola']"
      ]
     },
     "execution_count": 237,
     "metadata": {},
     "output_type": "execute_result"
    }
   ],
   "source": [
    "topic_word_list = []\n",
    "for i, comp in enumerate(components):\n",
    "    terms_comp = zip(vocab, comp)\n",
    "    sorted_terms = sorted(terms_comp, key= lambda x:x[1], reverse=True)[:10]\n",
    "    topic=\" \"\n",
    "    for t in sorted_terms:\n",
    "        topic= topic + ' ' + t[0]\n",
    "    topic_word_list.append(topic)\n",
    "topic_word_list"
   ]
  },
  {
   "cell_type": "code",
   "execution_count": 255,
   "metadata": {},
   "outputs": [
    {
     "data": {
      "text/plain": [
       "['  notsatisfi deton vyeypkodx murforblend companiesappl smapeyk paasch yi big richard',\n",
       " '  quadratisch train companiesappl straighten nakel complic flash flog chainblock jacob',\n",
       " '  gtofa explicit yaomiajmgbbb inonlinear sorensen jinp qpn repli fellow magnet',\n",
       " '  pogrom train mada companiesappl esma calm decim boulder hungari hous',\n",
       " '  impli roughli metr org competit iidenti con divid gtofa ifm',\n",
       " '  formula liber ddqn companiesmor ctional ssourc composit artilleri zeta onameopl',\n",
       " '  mainstream pngsetup manuel dxf taranto aaab either lipstick ejej digit',\n",
       " '  leibler metr roughli richard iidenti xna athen spl con scholarship',\n",
       " '  complic flash flog denc conceiv mada sill hassett tick train',\n",
       " '  scheffer advoc namecoin mathison caught athen spl declar categoris scholarship',\n",
       " '  aerodynam hart shap ddqn yule eafa hold stablecoin tsai conserv',\n",
       " '  gmm tetschen uber predictionw rein sun sdk newton bullish tree',\n",
       " '  boligomr kzi hafner aerodynam xjt napol telecom fish jpjxt iivx',\n",
       " '  withd ofvi dislik taught instead tbn uber esma predictionw strobl',\n",
       " '  withd ofvi taught dislik instead stringi cubehelix cryptocur strobl iivx',\n",
       " '  zeta minist inshtut en procedureto bernhard caldara deepar depth certain',\n",
       " '  report evolut uber interchang predictionw bouldin tetschen lifetim rozrgok iworld',\n",
       " '  andrey summaris report suicid captur margin wilcoxon dimfim hein summari',\n",
       " '  report iworld gramian kgek lff cationconsid circl doesnt revers zkaf',\n",
       " '  netneo zikov ton rni unter graphmeasur doesnt cartesian saw bemerkning',\n",
       " '  ler kervella withd gcvi dislik gcontain repli taught lot video',\n",
       " '  sight actuari summaris caldara andrey stationari snoopi jxn optionscalibr nke',\n",
       " '  uni tetschen dual hypothesi atm site optionscalibr scagnost godfath rto',\n",
       " '  inshtut sun doesnt zeta ddqn fig netneo bitwis bullish liouvil',\n",
       " '  uni gold site ler rubber hypothesi sjgand seqbert undon gcvi',\n",
       " '  uni site ngerprint rubber hypothesi nnx speedi sjgand seqbert crowd',\n",
       " '  edit rni racist acapulco brownien dataidentifi tchirnhau primarili textnasdaq declar',\n",
       " '  rni edit racist acapulco sorensen repli brownien dataidentifi textnasdaq cationconsid',\n",
       " '  ler gcvi ponzi video lot xna fashion tptx gallagh noyesdapp',\n",
       " '  report iworld met lff gramian aggreg incentiv semit wile yuxcfn',\n",
       " '  report iworld extens nteli uenc contrari matrixtop modular revers attentionbert',\n",
       " '  extrema hlhausen exibl bigram wqi referencesfan uber ave predictionw dbscan',\n",
       " '  bdoe cfa bcc daydeliveri charlott xdx corpuscuci cationconsid tom game',\n",
       " '  optionscalibr nois mweight ler whose kxkekyk peopl qlwfz qmv authent',\n",
       " '  tetschen godfath inshtut dual oneflesh ratti ramm easi councillor alok',\n",
       " '  avoid counterimport lemmat zydlxctidqo innbcl nonequival klusowski candlestick stick disciplinari',\n",
       " '  revers bbse diversifi critic categoris bdoe param bmc fflrb merit',\n",
       " '  daydeliveri rni riski edit racist uni acapulco withd dislik newcom',\n",
       " '  apriori mexico ardlea summaris qapjit vuutkxk ssop btctt uber andrey',\n",
       " '  contrari modular sr matrixtop matrixtopicsv brk uber predictionw matthia mingv',\n",
       " '  fflrb comltc tetschen dnand claveau genet boucher icosstart stackabl ordain',\n",
       " '  summaris reu kntj alisa hein summari sdf revers blind nvda',\n",
       " '  ngerprint merton nnx rlm omit economi economyfood esma crowd constantinopl',\n",
       " '  lri thousand indiafrm inew bip boon trespass spring chauss csvcj',\n",
       " '  pure maria matrix ahm sere fg zentrum pmax inputsoutput text',\n",
       " '  nuclear trespass algorithmfor kendal kernelshap ind clustersst spilak dimens chaotic',\n",
       " '  comltc claveau clumpi genet nteli en boucher icosstart stackabl bart',\n",
       " '  wish tpand alisa millisecond behavior doesnt jaj kt disconnect haudel',\n",
       " '  inshtut mass kct uber ptyt predictionw newcom cfa coldharbour marubozu',\n",
       " '  categoris uncertain counter wish fork wilk fflrb reu dpzm stephani',\n",
       " '  millisecond jaj haudel fatih paralleliz indiafrm heaviest bip boon groupgand',\n",
       " '  indiafrm bip boon rpbe dan alisa kira tchirnhau ccsbest whht',\n",
       " '  welder updat inshtut commandsbuy jovanka cubehelix bbdc run pol ngzdqpj',\n",
       " '  fflrb contain categoris kdpd assort demateri dpzm onigsberg lipstick endow',\n",
       " '  marubozu wish censor acf afrom updat kct welder commandsbuy ntch',\n",
       " '  addit tetschen circumcircl deepar censorship visionari reliev ygiven tntp node',\n",
       " '  fdf pbr hdfc creat curs drum yescompani labour ntch jean',\n",
       " '  strobl tukey treescomplex uncondit crexdu subplot dapp defenceopen keystrok dan',\n",
       " '  deepar lyancqkgi rein cypress calcul caldara residenti bernhard julia presnel',\n",
       " '  uber rein testexampl pharma uncount predictionw vsc coo boulder contextbas',\n",
       " '  cryptocurreni cryptographi cryptopunk usion cryptocurr rawtxtmodel contractsbas cryptosdisim cryptosnod jicevj',\n",
       " '  lifespan ndwhere hourli enter llll fig chines none roger gmxzpxzl',\n",
       " '  coher macroeconom atopolog bottou cagliari case ege eigenvector ethereum german',\n",
       " '  ifrpi athen spl scholarship egon xna dgb ftse hvi ithposit']"
      ]
     },
     "execution_count": 255,
     "metadata": {},
     "output_type": "execute_result"
    }
   ],
   "source": [
    "topic_word_list = []\n",
    "vocab_cleaned = [i for i in vocab if len(i) < 14]\n",
    "def get_topics(components): \n",
    "    for i, comp in enumerate(components):\n",
    "        terms_comp = zip(vocab_cleaned,comp)\n",
    "        sorted_terms = sorted(terms_comp, key= lambda x:x[1], reverse=True)[:10]\n",
    "        topic=\" \"\n",
    "        for t in sorted_terms:\n",
    "            topic= topic + ' ' + t[0]\n",
    "        topic_word_list.append(topic)\n",
    "    return topic_word_list\n",
    "get_topics(components)"
   ]
  },
  {
   "cell_type": "code",
   "execution_count": null,
   "metadata": {},
   "outputs": [],
   "source": [
    "from wordcloud import WordCloud\n",
    "import matplotlib.pyplot as plt\n",
    "for i in range(67):\n",
    "    wc = WordCloud(width=1000, height=600, margin=3,  prefer_horizontal=0.7,scale=1,background_color='white', relative_scaling=0).generate(topic_word_list[i])\n",
    "    plt.figure(figsize=(20, 30))\n",
    "    plt.imshow(wc)\n",
    "    plt.title(f\"Topic{i+1}\")\n",
    "    plt.axis(\"off\")\n",
    "    plt.show()"
   ]
  },
  {
   "cell_type": "markdown",
   "metadata": {},
   "source": [
    "# Exploing the word lenghts"
   ]
  },
  {
   "cell_type": "code",
   "execution_count": 243,
   "metadata": {},
   "outputs": [
    {
     "data": {
      "text/plain": [
       "<seaborn.axisgrid.FacetGrid at 0x2a0dfe650>"
      ]
     },
     "execution_count": 243,
     "metadata": {},
     "output_type": "execute_result"
    },
    {
     "data": {
      "image/png": "[encoded data removed]",
      "text/plain": [
       "<Figure size 360x360 with 1 Axes>"
      ]
     },
     "metadata": {
      "needs_background": "light"
     },
     "output_type": "display_data"
    }
   ],
   "source": [
    "distribution_one_word = [len(i) for i in vocab if i is not None]\n",
    "sns.displot(distribution_one_word, bins = 40)"
   ]
  },
  {
   "cell_type": "code",
   "execution_count": 252,
   "metadata": {},
   "outputs": [],
   "source": [
    "distribution_one_word = pd.DataFrame({'word': vocab, 'len': [len(i) for i in vocab]})"
   ]
  },
  {
   "cell_type": "markdown",
   "metadata": {},
   "source": [
    "# Input search"
   ]
  },
  {
   "cell_type": "code",
   "execution_count": 2,
   "metadata": {},
   "outputs": [
    {
     "ename": "NameError",
     "evalue": "name 'stopwords_list' is not defined",
     "output_type": "error",
     "traceback": [
      "\u001b[0;31m---------------------------------------------------------------------------\u001b[0m",
      "\u001b[0;31mNameError\u001b[0m                                 Traceback (most recent call last)",
      "\u001b[1;32m/Users/ivankotik/Documents/NPL/Word-cloud-Search-engine-optimisation-/Exploration_file.ipynb Cell 41\u001b[0m in \u001b[0;36m<cell line: 3>\u001b[0;34m()\u001b[0m\n\u001b[1;32m      <a href='vscode-notebook-cell:/Users/ivankotik/Documents/NPL/Word-cloud-Search-engine-optimisation-/Exploration_file.ipynb#X55sZmlsZQ%3D%3D?line=0'>1</a>\u001b[0m input_one \u001b[39m=\u001b[39m \u001b[39m'\u001b[39m\u001b[39mpricing\u001b[39m\u001b[39m'\u001b[39m\n\u001b[1;32m      <a href='vscode-notebook-cell:/Users/ivankotik/Documents/NPL/Word-cloud-Search-engine-optimisation-/Exploration_file.ipynb#X55sZmlsZQ%3D%3D?line=1'>2</a>\u001b[0m input_one \u001b[39m=\u001b[39m input_one\u001b[39m.\u001b[39msplit(\u001b[39m'\u001b[39m\u001b[39m \u001b[39m\u001b[39m'\u001b[39m)\n\u001b[0;32m----> <a href='vscode-notebook-cell:/Users/ivankotik/Documents/NPL/Word-cloud-Search-engine-optimisation-/Exploration_file.ipynb#X55sZmlsZQ%3D%3D?line=2'>3</a>\u001b[0m input_one \u001b[39m=\u001b[39m [i \u001b[39mfor\u001b[39;00m i \u001b[39min\u001b[39;00m input_one \u001b[39mif\u001b[39;00m i \u001b[39mnot\u001b[39;00m \u001b[39min\u001b[39;00m stopwords_list]\n\u001b[1;32m      <a href='vscode-notebook-cell:/Users/ivankotik/Documents/NPL/Word-cloud-Search-engine-optimisation-/Exploration_file.ipynb#X55sZmlsZQ%3D%3D?line=3'>4</a>\u001b[0m input_one \u001b[39m=\u001b[39m [ps\u001b[39m.\u001b[39mstem(i) \u001b[39mfor\u001b[39;00m i \u001b[39min\u001b[39;00m input_one]\n\u001b[1;32m      <a href='vscode-notebook-cell:/Users/ivankotik/Documents/NPL/Word-cloud-Search-engine-optimisation-/Exploration_file.ipynb#X55sZmlsZQ%3D%3D?line=5'>6</a>\u001b[0m input_two \u001b[39m=\u001b[39m \u001b[39m'\u001b[39m\u001b[39marbitrage rket\u001b[39m\u001b[39m'\u001b[39m\n",
      "\u001b[1;32m/Users/ivankotik/Documents/NPL/Word-cloud-Search-engine-optimisation-/Exploration_file.ipynb Cell 41\u001b[0m in \u001b[0;36m<listcomp>\u001b[0;34m(.0)\u001b[0m\n\u001b[1;32m      <a href='vscode-notebook-cell:/Users/ivankotik/Documents/NPL/Word-cloud-Search-engine-optimisation-/Exploration_file.ipynb#X55sZmlsZQ%3D%3D?line=0'>1</a>\u001b[0m input_one \u001b[39m=\u001b[39m \u001b[39m'\u001b[39m\u001b[39mpricing\u001b[39m\u001b[39m'\u001b[39m\n\u001b[1;32m      <a href='vscode-notebook-cell:/Users/ivankotik/Documents/NPL/Word-cloud-Search-engine-optimisation-/Exploration_file.ipynb#X55sZmlsZQ%3D%3D?line=1'>2</a>\u001b[0m input_one \u001b[39m=\u001b[39m input_one\u001b[39m.\u001b[39msplit(\u001b[39m'\u001b[39m\u001b[39m \u001b[39m\u001b[39m'\u001b[39m)\n\u001b[0;32m----> <a href='vscode-notebook-cell:/Users/ivankotik/Documents/NPL/Word-cloud-Search-engine-optimisation-/Exploration_file.ipynb#X55sZmlsZQ%3D%3D?line=2'>3</a>\u001b[0m input_one \u001b[39m=\u001b[39m [i \u001b[39mfor\u001b[39;00m i \u001b[39min\u001b[39;00m input_one \u001b[39mif\u001b[39;00m i \u001b[39mnot\u001b[39;00m \u001b[39min\u001b[39;00m stopwords_list]\n\u001b[1;32m      <a href='vscode-notebook-cell:/Users/ivankotik/Documents/NPL/Word-cloud-Search-engine-optimisation-/Exploration_file.ipynb#X55sZmlsZQ%3D%3D?line=3'>4</a>\u001b[0m input_one \u001b[39m=\u001b[39m [ps\u001b[39m.\u001b[39mstem(i) \u001b[39mfor\u001b[39;00m i \u001b[39min\u001b[39;00m input_one]\n\u001b[1;32m      <a href='vscode-notebook-cell:/Users/ivankotik/Documents/NPL/Word-cloud-Search-engine-optimisation-/Exploration_file.ipynb#X55sZmlsZQ%3D%3D?line=5'>6</a>\u001b[0m input_two \u001b[39m=\u001b[39m \u001b[39m'\u001b[39m\u001b[39marbitrage rket\u001b[39m\u001b[39m'\u001b[39m\n",
      "\u001b[0;31mNameError\u001b[0m: name 'stopwords_list' is not defined"
     ]
    }
   ],
   "source": [
    "input_one = 'pricing'\n",
    "input_one = input_one.split(' ')\n",
    "input_one = [i for i in input_one if i not in stopwords_list]\n",
    "input_one = [ps.stem(i) for i in input_one]\n",
    "\n",
    "input_two = 'arbitrage rket'\n",
    "input_two = input_two.split(' ')\n",
    "input_two = [i for i in input_two if i not in stopwords_list]\n",
    "input_two = [ps.stem(i) for i in input_two]\n",
    "input_two = [' '.join(input_two)]\n",
    "\n",
    "input_three = 'statistics of financial markets'\n",
    "input_three = input_three.split(' ')\n",
    "input_three = [i for i in input_three if i not in stopwords_list]\n",
    "input_three = [ps.stem(i) for i in input_three]\n",
    "input_three = [' '.join(input_three)]"
   ]
  },
  {
   "cell_type": "code",
   "execution_count": 265,
   "metadata": {},
   "outputs": [
    {
     "name": "stdout",
     "output_type": "stream",
     "text": [
      "['https://quantinar.s3.eu-west-3.amazonaws.com/courselet_components%2F224%2F164728525020220305+LI+Electricity+Market+Coupling.pdf', 'https://quantinar.s3.eu-west-3.amazonaws.com/courselet_components%2F97%2F163458105020210808+METIS+Win+Pricing+Kernel+Risk+Premium.pdf', 'https://quantinar.s3.eu-west-3.amazonaws.com/courselet_components%2F141%2F163527012720210526+SAE+NAG+HAE+SIZ+Understanding+jumps+in+high+frequency+digital+asset+markets.pdf', 'https://quantinar.s3.eu-west-3.amazonaws.com/courselet_components%2F179%2F16376558632021122+SBA+JW+Hae+EPF++Quantinar.pdf', 'https://quantinar.s3.eu-west-3.amazonaws.com/courselet_components%2F129%2F163458163120200915+Kim+Hae+Tri+VCRIX.pdf']\n"
     ]
    }
   ],
   "source": [
    "def check_for_one(input_one):\n",
    "    if input_one[0] in list(xx_one.columns):\n",
    "        ranked_indexes_one = xx_one[input_one].sort_values(by = input_one, ascending=False).index\n",
    "        ranked_indexes_one = list(ranked_indexes_one[0:5])\n",
    "        output_one = [courseletlist[i] for i in ranked_indexes_one]\n",
    "        print(output_one)\n",
    "    else: \n",
    "        print('not present')\n",
    "check_for_one(input_one)"
   ]
  },
  {
   "cell_type": "code",
   "execution_count": 266,
   "metadata": {},
   "outputs": [
    {
     "name": "stdout",
     "output_type": "stream",
     "text": [
      "not present\n"
     ]
    }
   ],
   "source": [
    "def check_for_two(input_two):\n",
    "    if input_two[0] in list(xx_two.columns):\n",
    "        ranked_indexes_two = xx_two[input_two].sort_values(by = input_two, ascending=False).index\n",
    "        ranked_indexes_two = list(ranked_indexes_two[0:5])\n",
    "        output_two = [courseletlist[i] for i in ranked_indexes_two]\n",
    "        print(output_two)\n",
    "    else: \n",
    "        print('not present')\n",
    "check_for_two(input_two)"
   ]
  },
  {
   "cell_type": "code",
   "execution_count": 267,
   "metadata": {},
   "outputs": [
    {
     "name": "stdout",
     "output_type": "stream",
     "text": [
      "not present\n"
     ]
    }
   ],
   "source": [
    "def check_for_three(input_three):\n",
    "    if input_two[0] in list(xx_two.columns):\n",
    "        ranked_indexes_two = xx_two[input_two].sort_values(by = input_two, ascending=False).index\n",
    "        ranked_indexes_two = list(ranked_indexes_two[0:5])\n",
    "        output_two = [courseletlist[i] for i in ranked_indexes_two]\n",
    "        print(output_two)\n",
    "    else: \n",
    "        print('not present')\n",
    "check_for_three(input_three)"
   ]
  },
  {
   "cell_type": "code",
   "execution_count": 261,
   "metadata": {},
   "outputs": [
    {
     "name": "stdout",
     "output_type": "stream",
     "text": [
      "not present\n"
     ]
    }
   ],
   "source": [
    "if input_three[0] in list(xx_three.columns):\n",
    "    ranked_indexes_three = xx_three[input_three].sort_values(by = input_three, ascending=False).index\n",
    "    ranked_indexes_three = list(ranked_indexes_three[0:5])\n",
    "    output_three = [courseletlist[i] for i in ranked_indexes_three]\n",
    "    print(output_three)\n",
    "else: \n",
    "    print('not present')"
   ]
  },
  {
   "cell_type": "code",
   "execution_count": 292,
   "metadata": {},
   "outputs": [],
   "source": [
    "# extended search:\n",
    "input_initial = 'statistics of financial markets option pricing'\n",
    "def input_sequence(input_initial): \n",
    "\n",
    "    '''Trimming input search terms to be used for the occurance matrix. The output is a generalized stemmed input form ready for checking and a count of terms for the ngram_range.'''\n",
    "\n",
    "    input_general = input_initial.split(' ')\n",
    "    input_general = [i for i in input_general if i not in stopwords_list]\n",
    "    input_general_count = len(input_general)\n",
    "    input_general = [ps.stem(i) for i in input_general]\n",
    "    input_general = [' '.join(input_general)]\n",
    "    return input_general, input_general_count"
   ]
  },
  {
   "cell_type": "code",
   "execution_count": 293,
   "metadata": {},
   "outputs": [],
   "source": [
    "def general_occurance(input_initial): \n",
    "\n",
    "    '''Creation of the generalized tfidf occurance matrix based on dynamic parameters.'''\n",
    "\n",
    "    input_general, input_general_count = input_sequence(input_initial)\n",
    "    vectorizer_general = TfidfVectorizer(smooth_idf=True, sublinear_tf=True, use_idf=True, lowercase = False, stop_words = stopwords_list, ngram_range=(input_general_count, input_general_count))\n",
    "    X_general = vectorizer_general.fit_transform(combined_pdf)\n",
    "    xx_general = pd.DataFrame(X_general.toarray(), columns = vectorizer_general.get_feature_names_out())\n",
    "    return xx_general"
   ]
  },
  {
   "cell_type": "code",
   "execution_count": null,
   "metadata": {},
   "outputs": [],
   "source": [
    "# def check_for_general(input_one):\n",
    "#     print('number of words: ', input_general_count, '\\n search term: ', input_general)\n",
    "    \n",
    "#     if input_general[0] in list(xx_general.columns):\n",
    "#         ranked_indexes_one = xx_general[input_one].sort_values(by = input_one, ascending=False).index\n",
    "#         ranked_indexes_one = list(ranked_indexes_one[0:5])\n",
    "#         output_one = [courseletlist[i] for i in ranked_indexes_one]\n",
    "#         print(output_one)\n",
    "#     else: \n",
    "#         print('not present')\n",
    "\n",
    "# check_for_general(input_one)"
   ]
  },
  {
   "cell_type": "code",
   "execution_count": 1,
   "metadata": {},
   "outputs": [
    {
     "data": {
      "text/plain": [
       "'statistics of financial markets option pricing'"
      ]
     },
     "execution_count": 1,
     "metadata": {},
     "output_type": "execute_result"
    }
   ],
   "source": [
    "input_initial = 'statistics of financial markets option pricing'\n",
    "# input_general = input_initial.split(' ')\n",
    "# input_general = [i for i in input_general if i not in stopwords_list]\n",
    "# input_general_count = len(input_general)\n",
    "# input_general = [ps.stem(i) for i in input_general]\n",
    "input_initial"
   ]
  }
 ],
 "metadata": {
  "kernelspec": {
   "display_name": "Python 3.10.4 64-bit",
   "language": "python",
   "name": "python3"
  },
  "language_info": {
   "codemirror_mode": {
    "name": "ipython",
    "version": 3
   },
   "file_extension": ".py",
   "mimetype": "text/x-python",
   "name": "python",
   "nbconvert_exporter": "python",
   "pygments_lexer": "ipython3",
   "version": "3.10.4"
  },
  "orig_nbformat": 4,
  "vscode": {
   "interpreter": {
    "hash": "aee8b7b246df8f9039afb4144a1f6fd8d2ca17a180786b69acc140d282b71a49"
   }
  }
 },
 "nbformat": 4,
 "nbformat_minor": 2
}
